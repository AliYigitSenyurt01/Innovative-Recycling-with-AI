{
 "cells": [
  {
   "cell_type": "markdown",
   "id": "ba46d4aa",
   "metadata": {},
   "source": [
    "This file is used to shuffle the data and split it into train, validation and test datasets."
   ]
  },
  {
   "cell_type": "code",
   "execution_count": 1,
   "id": "9f5c3fe4",
   "metadata": {},
   "outputs": [],
   "source": [
    "# Import necessary libraries\n",
    "\n",
    "import os \n",
    "import re\n",
    "import numpy as np\n",
    "import pandas as pd\n",
    "from sklearn.model_selection import train_test_split\n",
    "\n",
    "np.random.seed(1)"
   ]
  },
  {
   "cell_type": "code",
   "execution_count": 2,
   "id": "c5d2d0af",
   "metadata": {},
   "outputs": [
    {
     "name": "stdout",
     "output_type": "stream",
     "text": [
      "All Categories:\n",
      "0 | glass\n",
      "1 | metal\n",
      "2 | paper\n",
      "3 | plastic\n"
     ]
    }
   ],
   "source": [
    "# Getting the name of different categories\n",
    "base_path = os.curdir + \"\\\\dataset-resized\"\n",
    "\n",
    "# Creating a dictionary of the 4 classes\n",
    "categories={}\n",
    "i = -1\n",
    "\n",
    "for dirname, _, filenames in os.walk(base_path):\n",
    "    for filename in filenames:\n",
    "        categories[i] = dirname.split('\\\\')[-1]        \n",
    "        break \n",
    "    \n",
    "    i += 1\n",
    "\n",
    "print(\"All Categories:\")\n",
    "for key, value in categories.items():\n",
    "    print(key, \"|\",value)"
   ]
  },
  {
   "cell_type": "code",
   "execution_count": null,
   "id": "eaea9cb8",
   "metadata": {},
   "outputs": [],
   "source": [
    "7746\n",
    "79777\n",
    "7231"
   ]
  },
  {
   "cell_type": "code",
   "execution_count": 3,
   "id": "8a17932c",
   "metadata": {},
   "outputs": [
    {
     "name": "stdout",
     "output_type": "stream",
     "text": [
      "number of elements =  4000\n"
     ]
    },
    {
     "data": {
      "text/html": [
       "<div>\n",
       "<style scoped>\n",
       "    .dataframe tbody tr th:only-of-type {\n",
       "        vertical-align: middle;\n",
       "    }\n",
       "\n",
       "    .dataframe tbody tr th {\n",
       "        vertical-align: top;\n",
       "    }\n",
       "\n",
       "    .dataframe thead th {\n",
       "        text-align: right;\n",
       "    }\n",
       "</style>\n",
       "<table border=\"1\" class=\"dataframe\">\n",
       "  <thead>\n",
       "    <tr style=\"text-align: right;\">\n",
       "      <th></th>\n",
       "      <th>filename</th>\n",
       "      <th>category</th>\n",
       "    </tr>\n",
       "  </thead>\n",
       "  <tbody>\n",
       "    <tr>\n",
       "      <th>0</th>\n",
       "      <td>glass\\glass279.jpg</td>\n",
       "      <td>0</td>\n",
       "    </tr>\n",
       "    <tr>\n",
       "      <th>1</th>\n",
       "      <td>metal\\metal169.jpg</td>\n",
       "      <td>1</td>\n",
       "    </tr>\n",
       "    <tr>\n",
       "      <th>2</th>\n",
       "      <td>glass\\glass648.jpg</td>\n",
       "      <td>0</td>\n",
       "    </tr>\n",
       "    <tr>\n",
       "      <th>3</th>\n",
       "      <td>paper\\paper241.jpg</td>\n",
       "      <td>2</td>\n",
       "    </tr>\n",
       "    <tr>\n",
       "      <th>4</th>\n",
       "      <td>metal\\metal250.jpg</td>\n",
       "      <td>1</td>\n",
       "    </tr>\n",
       "    <tr>\n",
       "      <th>5</th>\n",
       "      <td>paper\\paper501.jpg</td>\n",
       "      <td>2</td>\n",
       "    </tr>\n",
       "    <tr>\n",
       "      <th>6</th>\n",
       "      <td>paper\\paper943.jpg</td>\n",
       "      <td>2</td>\n",
       "    </tr>\n",
       "    <tr>\n",
       "      <th>7</th>\n",
       "      <td>glass\\glass830.jpg</td>\n",
       "      <td>0</td>\n",
       "    </tr>\n",
       "    <tr>\n",
       "      <th>8</th>\n",
       "      <td>metal\\metal34.jpg</td>\n",
       "      <td>1</td>\n",
       "    </tr>\n",
       "    <tr>\n",
       "      <th>9</th>\n",
       "      <td>glass\\glass882.jpg</td>\n",
       "      <td>0</td>\n",
       "    </tr>\n",
       "  </tbody>\n",
       "</table>\n",
       "</div>"
      ],
      "text/plain": [
       "             filename  category\n",
       "0  glass\\glass279.jpg         0\n",
       "1  metal\\metal169.jpg         1\n",
       "2  glass\\glass648.jpg         0\n",
       "3  paper\\paper241.jpg         2\n",
       "4  metal\\metal250.jpg         1\n",
       "5  paper\\paper501.jpg         2\n",
       "6  paper\\paper943.jpg         2\n",
       "7  glass\\glass830.jpg         0\n",
       "8   metal\\metal34.jpg         1\n",
       "9  glass\\glass882.jpg         0"
      ]
     },
     "execution_count": 3,
     "metadata": {},
     "output_type": "execute_result"
    }
   ],
   "source": [
    "#\n",
    "def add_class_name_prefix(df, col_name):\n",
    "    df[col_name] = df[col_name].apply(lambda x: x[:re.search(\"\\d\",x).start()] + '\\\\' + x)\n",
    "    return df\n",
    "\n",
    "\n",
    "# list conatining all the filenames in the dataset\n",
    "filenames_list = []\n",
    "\n",
    "# list to store the corresponding category, note that each folder of the dataset has one class of data\n",
    "categories_list = []\n",
    "\n",
    "\n",
    "for category in categories:\n",
    "    filenames = os.listdir(base_path + \"\\\\\" + categories[category])\n",
    "    filenames_list = filenames_list  + filenames\n",
    "    categories_list = categories_list + [category] * len(filenames)\n",
    "   \n",
    "\n",
    "df = pd.DataFrame({\n",
    "    'filename': filenames_list,\n",
    "    'category': categories_list\n",
    "})\n",
    "\n",
    "\n",
    "df = add_class_name_prefix(df, 'filename')\n",
    "\n",
    "# Shuffle the dataframe\n",
    "df = df.sample(frac=1).reset_index(drop=True)\n",
    "\n",
    "\n",
    "print('number of elements = ' , len(df))\n",
    "df.head(10)"
   ]
  },
  {
   "cell_type": "code",
   "execution_count": 4,
   "id": "9e05e048",
   "metadata": {},
   "outputs": [
    {
     "name": "stdout",
     "output_type": "stream",
     "text": [
      "train size = 3200 \n",
      "validation size = 560 \n",
      "test size = 240\n"
     ]
    }
   ],
   "source": [
    "train_df, validate_df = train_test_split(df, test_size=0.2, random_state=1)\n",
    "validate_df, test_df = train_test_split(validate_df, test_size=0.3, random_state=1)\n",
    "\n",
    "train_df = train_df.reset_index(drop=True)\n",
    "validate_df = validate_df.reset_index(drop=True)\n",
    "test_df = test_df.reset_index(drop=True)\n",
    "\n",
    "total_train = train_df.shape[0]\n",
    "total_validate = validate_df.shape[0]\n",
    "\n",
    "print('train size =', total_train , '\\nvalidation size =', total_validate, '\\ntest size =', test_df.shape[0])"
   ]
  },
  {
   "cell_type": "code",
   "execution_count": 5,
   "id": "0aa28868",
   "metadata": {},
   "outputs": [],
   "source": [
    "train_df.to_csv(\"train.csv\", index=False)\n",
    "validate_df.to_csv(\"validate.csv\", index=False)\n",
    "test_df.to_csv(\"test.csv\", index=False)"
   ]
  }
 ],
 "metadata": {
  "kernelspec": {
   "display_name": "Python 3 (ipykernel)",
   "language": "python",
   "name": "python3"
  },
  "language_info": {
   "codemirror_mode": {
    "name": "ipython",
    "version": 3
   },
   "file_extension": ".py",
   "mimetype": "text/x-python",
   "name": "python",
   "nbconvert_exporter": "python",
   "pygments_lexer": "ipython3",
   "version": "3.9.7"
  }
 },
 "nbformat": 4,
 "nbformat_minor": 5
}
