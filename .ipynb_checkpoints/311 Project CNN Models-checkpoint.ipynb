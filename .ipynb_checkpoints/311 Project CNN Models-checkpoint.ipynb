{
 "cells": [
  {
   "cell_type": "code",
   "execution_count": 1,
   "id": "fa617d05",
   "metadata": {},
   "outputs": [],
   "source": [
    "import os \n",
    "import re\n",
    "import random\n",
    "import logging\n",
    "import numpy as np\n",
    "import pandas as pd \n",
    "import seaborn as sns\n",
    "from PIL import Image\n",
    "import matplotlib.pyplot as plt\n",
    "from sklearn.metrics import confusion_matrix\n",
    "from sklearn.model_selection import train_test_split"
   ]
  },
  {
   "cell_type": "code",
   "execution_count": 2,
   "id": "8cf99d44",
   "metadata": {},
   "outputs": [],
   "source": [
    "import tensorflow as tf\n",
    "from tensorflow.keras.optimizers import Adam\n",
    "from tensorflow.keras.models import Sequential\n",
    "from tensorflow.keras.callbacks import ModelCheckpoint\n",
    "from tensorflow.keras.layers import Dense, Dropout, Flatten, Conv2D, MaxPooling2D\n",
    "\n",
    "physical_devices = tf.config.list_physical_devices('GPU')\n",
    "tf.config.experimental.set_memory_growth(physical_devices[0], True)\n",
    "\n",
    "tf.random.set_seed(10)\n",
    "random.seed(10)\n",
    "np.random.seed(10)"
   ]
  },
  {
   "cell_type": "code",
   "execution_count": 3,
   "id": "c7c3ab7b",
   "metadata": {},
   "outputs": [
    {
     "name": "stdout",
     "output_type": "stream",
     "text": [
      "All Categories:\n",
      "0 | glass\n",
      "1 | metal\n",
      "2 | paper\n",
      "3 | plastic\n"
     ]
    }
   ],
   "source": [
    "base_path = os.curdir + \"\\\\dataset-resized\"\n",
    "\n",
    "# Creating a dictionary of the 4 classes\n",
    "categories={}\n",
    "i = -1\n",
    "\n",
    "for dirname, _, filenames in os.walk(base_path):\n",
    "    for filename in filenames:\n",
    "        categories[i] = dirname.split('\\\\')[-1]        \n",
    "        break \n",
    "    \n",
    "    i += 1\n",
    "\n",
    "print(\"All Categories:\")\n",
    "for key, value in categories.items():\n",
    "    print(key, \"|\",value)"
   ]
  },
  {
   "cell_type": "code",
   "execution_count": 4,
   "id": "c395ac98",
   "metadata": {},
   "outputs": [],
   "source": [
    "train_df = pd.read_csv(\"train.csv\")\n",
    "validate_df = pd.read_csv(\"validate.csv\")\n",
    "test_df = pd.read_csv(\"test.csv\")"
   ]
  },
  {
   "cell_type": "code",
   "execution_count": 5,
   "id": "f86a7bed",
   "metadata": {},
   "outputs": [
    {
     "data": {
      "text/html": [
       "<div>\n",
       "<style scoped>\n",
       "    .dataframe tbody tr th:only-of-type {\n",
       "        vertical-align: middle;\n",
       "    }\n",
       "\n",
       "    .dataframe tbody tr th {\n",
       "        vertical-align: top;\n",
       "    }\n",
       "\n",
       "    .dataframe thead th {\n",
       "        text-align: right;\n",
       "    }\n",
       "</style>\n",
       "<table border=\"1\" class=\"dataframe\">\n",
       "  <thead>\n",
       "    <tr style=\"text-align: right;\">\n",
       "      <th></th>\n",
       "      <th>filename</th>\n",
       "      <th>category</th>\n",
       "    </tr>\n",
       "  </thead>\n",
       "  <tbody>\n",
       "    <tr>\n",
       "      <th>0</th>\n",
       "      <td>glass\\glass779.jpg</td>\n",
       "      <td>0</td>\n",
       "    </tr>\n",
       "    <tr>\n",
       "      <th>1</th>\n",
       "      <td>glass\\glass763.jpg</td>\n",
       "      <td>0</td>\n",
       "    </tr>\n",
       "    <tr>\n",
       "      <th>2</th>\n",
       "      <td>glass\\glass867.jpg</td>\n",
       "      <td>0</td>\n",
       "    </tr>\n",
       "    <tr>\n",
       "      <th>3</th>\n",
       "      <td>plastic\\plastic523.jpg</td>\n",
       "      <td>3</td>\n",
       "    </tr>\n",
       "    <tr>\n",
       "      <th>4</th>\n",
       "      <td>paper\\paper336.jpg</td>\n",
       "      <td>2</td>\n",
       "    </tr>\n",
       "    <tr>\n",
       "      <th>...</th>\n",
       "      <td>...</td>\n",
       "      <td>...</td>\n",
       "    </tr>\n",
       "    <tr>\n",
       "      <th>3195</th>\n",
       "      <td>plastic\\plastic29.jpg</td>\n",
       "      <td>3</td>\n",
       "    </tr>\n",
       "    <tr>\n",
       "      <th>3196</th>\n",
       "      <td>paper\\paper329.jpg</td>\n",
       "      <td>2</td>\n",
       "    </tr>\n",
       "    <tr>\n",
       "      <th>3197</th>\n",
       "      <td>metal\\metal349.jpg</td>\n",
       "      <td>1</td>\n",
       "    </tr>\n",
       "    <tr>\n",
       "      <th>3198</th>\n",
       "      <td>glass\\glass815.jpg</td>\n",
       "      <td>0</td>\n",
       "    </tr>\n",
       "    <tr>\n",
       "      <th>3199</th>\n",
       "      <td>metal\\metal589.jpg</td>\n",
       "      <td>1</td>\n",
       "    </tr>\n",
       "  </tbody>\n",
       "</table>\n",
       "<p>3200 rows × 2 columns</p>\n",
       "</div>"
      ],
      "text/plain": [
       "                    filename  category\n",
       "0         glass\\glass779.jpg         0\n",
       "1         glass\\glass763.jpg         0\n",
       "2         glass\\glass867.jpg         0\n",
       "3     plastic\\plastic523.jpg         3\n",
       "4         paper\\paper336.jpg         2\n",
       "...                      ...       ...\n",
       "3195   plastic\\plastic29.jpg         3\n",
       "3196      paper\\paper329.jpg         2\n",
       "3197      metal\\metal349.jpg         1\n",
       "3198      glass\\glass815.jpg         0\n",
       "3199      metal\\metal589.jpg         1\n",
       "\n",
       "[3200 rows x 2 columns]"
      ]
     },
     "execution_count": 5,
     "metadata": {},
     "output_type": "execute_result"
    }
   ],
   "source": [
    "train_df"
   ]
  },
  {
   "cell_type": "code",
   "execution_count": 6,
   "id": "b8f0cdb3",
   "metadata": {},
   "outputs": [],
   "source": [
    "def load_images(df):\n",
    "    X = []\n",
    "    Y = []\n",
    "    \n",
    "    for index, row in df.iterrows():\n",
    "        image_path = base_path + \"\\\\\" + row['filename']\n",
    "        img = Image.open(image_path).convert(\"RGB\")\n",
    "        img = img.resize((100, 100))  # Resize to your desired input size\n",
    "        img_array = np.array(img)  # Convert to NumPy array\n",
    "        X.append(img_array/255.0)\n",
    "        Y.append(row['category'])\n",
    "        del img, img_array\n",
    "    return np.array(X), np.array(Y)"
   ]
  },
  {
   "cell_type": "code",
   "execution_count": 7,
   "id": "137e792a",
   "metadata": {},
   "outputs": [],
   "source": [
    "trainX, trainY = load_images(train_df)\n",
    "valX, valY = load_images(validate_df)\n",
    "testX, testY = load_images(test_df)"
   ]
  },
  {
   "cell_type": "code",
   "execution_count": 8,
   "id": "0993ead1",
   "metadata": {},
   "outputs": [
    {
     "data": {
      "image/png": "[encoded data removed]",
      "text/plain": [
       "<Figure size 400x400 with 1 Axes>"
      ]
     },
     "metadata": {},
     "output_type": "display_data"
    }
   ],
   "source": [
    "rand = random.randint(0,len(trainX))\n",
    "plt.figure(figsize=(4,4))\n",
    "plt.imshow(trainX[rand])\n",
    "plt.title(categories[trainY[rand]])\n",
    "plt.axis(\"off\")\n",
    "plt.show()"
   ]
  },
  {
   "cell_type": "code",
   "execution_count": 9,
   "id": "628fe58b",
   "metadata": {},
   "outputs": [
    {
     "name": "stdout",
     "output_type": "stream",
     "text": [
      "Shape of trainX = (3200, 100, 100, 3)\n",
      "Shape of trainY =  (3200,)\n",
      "Shape of valX   = (560, 100, 100, 3)\n",
      "Shape of valY   =  (560,)\n",
      "Shape of testX  = (240, 100, 100, 3)\n",
      "Shape of testY  =  (240,)\n"
     ]
    }
   ],
   "source": [
    "print(\"Shape of trainX =\",trainX.shape)\n",
    "print(\"Shape of trainY = \",trainY.shape)\n",
    "print(\"Shape of valX   =\",valX.shape)\n",
    "print(\"Shape of valY   = \",valY.shape)\n",
    "print(\"Shape of testX  =\",testX.shape)\n",
    "print(\"Shape of testY  = \",testY.shape)"
   ]
  },
  {
   "cell_type": "code",
   "execution_count": 10,
   "id": "260d5a26",
   "metadata": {},
   "outputs": [
    {
     "data": {
      "text/plain": [
       "array([[1., 0., 0., 0.],\n",
       "       [1., 0., 0., 0.],\n",
       "       [1., 0., 0., 0.],\n",
       "       ...,\n",
       "       [0., 1., 0., 0.],\n",
       "       [1., 0., 0., 0.],\n",
       "       [0., 1., 0., 0.]])"
      ]
     },
     "execution_count": 10,
     "metadata": {},
     "output_type": "execute_result"
    }
   ],
   "source": [
    "# One hot encoding the labels\n",
    "from sklearn.preprocessing import OneHotEncoder\n",
    "one_hot_encoder = OneHotEncoder(sparse=False)\n",
    "\n",
    "trainY = one_hot_encoder.fit_transform(trainY.reshape(-1,1))\n",
    "valY = one_hot_encoder.fit_transform(valY.reshape(-1,1))\n",
    "testY = one_hot_encoder.fit_transform(testY.reshape(-1,1))\n",
    "\n",
    "trainY"
   ]
  },
  {
   "cell_type": "markdown",
   "id": "61d2d847",
   "metadata": {},
   "source": [
    "## CNN Model 1"
   ]
  },
  {
   "cell_type": "code",
   "execution_count": 11,
   "id": "0ddc722f",
   "metadata": {},
   "outputs": [
    {
     "name": "stdout",
     "output_type": "stream",
     "text": [
      "Model: \"sequential\"\n",
      "_________________________________________________________________\n",
      " Layer (type)                Output Shape              Param #   \n",
      "=================================================================\n",
      " conv2d (Conv2D)             (None, 46, 46, 96)        28896     \n",
      "                                                                 \n",
      " max_pooling2d (MaxPooling2D  (None, 22, 22, 96)       0         \n",
      " )                                                               \n",
      "                                                                 \n",
      " conv2d_1 (Conv2D)           (None, 18, 18, 256)       614656    \n",
      "                                                                 \n",
      " max_pooling2d_1 (MaxPooling  (None, 8, 8, 256)        0         \n",
      " 2D)                                                             \n",
      "                                                                 \n",
      " conv2d_2 (Conv2D)           (None, 6, 6, 256)         590080    \n",
      "                                                                 \n",
      " max_pooling2d_2 (MaxPooling  (None, 2, 2, 256)        0         \n",
      " 2D)                                                             \n",
      "                                                                 \n",
      " flatten (Flatten)           (None, 1024)              0         \n",
      "                                                                 \n",
      " dense (Dense)               (None, 512)               524800    \n",
      "                                                                 \n",
      " dense_1 (Dense)             (None, 256)               131328    \n",
      "                                                                 \n",
      " dropout (Dropout)           (None, 256)               0         \n",
      "                                                                 \n",
      " dense_2 (Dense)             (None, 4)                 1028      \n",
      "                                                                 \n",
      "=================================================================\n",
      "Total params: 1,890,788\n",
      "Trainable params: 1,890,788\n",
      "Non-trainable params: 0\n",
      "_________________________________________________________________\n"
     ]
    }
   ],
   "source": [
    "model1 = Sequential([\n",
    "\n",
    "    Conv2D(filters=96, kernel_size=(10, 10), strides=(2,2), activation=\"relu\", input_shape=(100, 100, 3)),\n",
    "    MaxPooling2D(pool_size=(3, 3), strides=(2,2)),\n",
    "    \n",
    "\n",
    "    Conv2D(filters=256, kernel_size=(5, 5), strides=(1,1), activation=\"relu\"),\n",
    "    MaxPooling2D(pool_size=(3, 3), strides=(2, 2)),\n",
    "    \n",
    "    \n",
    "    Conv2D(filters=256, kernel_size=(3, 3), strides=(1,1), activation=\"relu\"),\n",
    "    MaxPooling2D(pool_size=(3, 3), strides=(2, 2)),\n",
    "    \n",
    "    Flatten(),\n",
    "    \n",
    "    Dense(512, activation=\"relu\"),\n",
    "    Dense(256, activation=\"relu\"),\n",
    "    Dropout(0.5),\n",
    "    Dense(4, activation=\"softmax\")\n",
    "])\n",
    "\n",
    "model1.compile(optimizer=\"Adam\", loss=\"categorical_crossentropy\", metrics=[\"accuracy\"])\n",
    "model1.summary()"
   ]
  },
  {
   "cell_type": "code",
   "execution_count": 12,
   "id": "629b2d94",
   "metadata": {},
   "outputs": [],
   "source": [
    "checkpoint = ModelCheckpoint(\"CNN_model1\", \n",
    "                             monitor='val_accuracy', \n",
    "                             save_best_only=True, \n",
    "                             mode='max', \n",
    "                             verbose=1)"
   ]
  },
  {
   "cell_type": "code",
   "execution_count": 13,
   "id": "aa58c388",
   "metadata": {
    "scrolled": true
   },
   "outputs": [
    {
     "name": "stdout",
     "output_type": "stream",
     "text": [
      "Epoch 1/100\n",
      "39/40 [============================>.] - ETA: 0s - loss: 1.3875 - accuracy: 0.2490\n",
      "Epoch 1: val_accuracy improved from -inf to 0.33214, saving model to CNN_model1\n"
     ]
    },
    {
     "name": "stderr",
     "output_type": "stream",
     "text": [
      "WARNING:absl:Found untraced functions such as _jit_compiled_convolution_op, _jit_compiled_convolution_op, _jit_compiled_convolution_op while saving (showing 3 of 3). These functions will not be directly callable after loading.\n"
     ]
    },
    {
     "name": "stdout",
     "output_type": "stream",
     "text": [
      "INFO:tensorflow:Assets written to: CNN_model1\\assets\n"
     ]
    },
    {
     "name": "stderr",
     "output_type": "stream",
     "text": [
      "INFO:tensorflow:Assets written to: CNN_model1\\assets\n"
     ]
    },
    {
     "name": "stdout",
     "output_type": "stream",
     "text": [
      "40/40 [==============================] - 9s 77ms/step - loss: 1.3877 - accuracy: 0.2525 - val_loss: 1.3716 - val_accuracy: 0.3321\n",
      "Epoch 2/100\n",
      "39/40 [============================>.] - ETA: 0s - loss: 1.3595 - accuracy: 0.3260\n",
      "Epoch 2: val_accuracy did not improve from 0.33214\n",
      "40/40 [==============================] - 1s 36ms/step - loss: 1.3582 - accuracy: 0.3284 - val_loss: 1.3150 - val_accuracy: 0.3286\n",
      "Epoch 3/100\n",
      "39/40 [============================>.] - ETA: 0s - loss: 1.3186 - accuracy: 0.3567\n",
      "Epoch 3: val_accuracy improved from 0.33214 to 0.38393, saving model to CNN_model1\n"
     ]
    },
    {
     "name": "stderr",
     "output_type": "stream",
     "text": [
      "WARNING:absl:Found untraced functions such as _jit_compiled_convolution_op, _jit_compiled_convolution_op, _jit_compiled_convolution_op while saving (showing 3 of 3). These functions will not be directly callable after loading.\n"
     ]
    },
    {
     "name": "stdout",
     "output_type": "stream",
     "text": [
      "INFO:tensorflow:Assets written to: CNN_model1\\assets\n"
     ]
    },
    {
     "name": "stderr",
     "output_type": "stream",
     "text": [
      "INFO:tensorflow:Assets written to: CNN_model1\\assets\n"
     ]
    },
    {
     "name": "stdout",
     "output_type": "stream",
     "text": [
      "40/40 [==============================] - 2s 56ms/step - loss: 1.3173 - accuracy: 0.3603 - val_loss: 1.3506 - val_accuracy: 0.3839\n",
      "Epoch 4/100\n",
      "39/40 [============================>.] - ETA: 0s - loss: 1.2922 - accuracy: 0.3782\n",
      "Epoch 4: val_accuracy did not improve from 0.38393\n",
      "40/40 [==============================] - 1s 32ms/step - loss: 1.2934 - accuracy: 0.3766 - val_loss: 1.2781 - val_accuracy: 0.3571\n",
      "Epoch 5/100\n",
      "39/40 [============================>.] - ETA: 0s - loss: 1.2841 - accuracy: 0.4054\n",
      "Epoch 5: val_accuracy did not improve from 0.38393\n",
      "40/40 [==============================] - 1s 32ms/step - loss: 1.2839 - accuracy: 0.4062 - val_loss: 1.2854 - val_accuracy: 0.3696\n",
      "Epoch 6/100\n",
      "39/40 [============================>.] - ETA: 0s - loss: 1.2672 - accuracy: 0.4112\n",
      "Epoch 6: val_accuracy improved from 0.38393 to 0.39107, saving model to CNN_model1\n"
     ]
    },
    {
     "name": "stderr",
     "output_type": "stream",
     "text": [
      "WARNING:absl:Found untraced functions such as _jit_compiled_convolution_op, _jit_compiled_convolution_op, _jit_compiled_convolution_op while saving (showing 3 of 3). These functions will not be directly callable after loading.\n"
     ]
    },
    {
     "name": "stdout",
     "output_type": "stream",
     "text": [
      "INFO:tensorflow:Assets written to: CNN_model1\\assets\n"
     ]
    },
    {
     "name": "stderr",
     "output_type": "stream",
     "text": [
      "INFO:tensorflow:Assets written to: CNN_model1\\assets\n"
     ]
    },
    {
     "name": "stdout",
     "output_type": "stream",
     "text": [
      "40/40 [==============================] - 2s 56ms/step - loss: 1.2662 - accuracy: 0.4106 - val_loss: 1.2595 - val_accuracy: 0.3911\n",
      "Epoch 7/100\n",
      "39/40 [============================>.] - ETA: 0s - loss: 1.2286 - accuracy: 0.4356\n",
      "Epoch 7: val_accuracy improved from 0.39107 to 0.42679, saving model to CNN_model1\n"
     ]
    },
    {
     "name": "stderr",
     "output_type": "stream",
     "text": [
      "WARNING:absl:Found untraced functions such as _jit_compiled_convolution_op, _jit_compiled_convolution_op, _jit_compiled_convolution_op while saving (showing 3 of 3). These functions will not be directly callable after loading.\n"
     ]
    },
    {
     "name": "stdout",
     "output_type": "stream",
     "text": [
      "INFO:tensorflow:Assets written to: CNN_model1\\assets\n"
     ]
    },
    {
     "name": "stderr",
     "output_type": "stream",
     "text": [
      "INFO:tensorflow:Assets written to: CNN_model1\\assets\n"
     ]
    },
    {
     "name": "stdout",
     "output_type": "stream",
     "text": [
      "40/40 [==============================] - 2s 62ms/step - loss: 1.2287 - accuracy: 0.4356 - val_loss: 1.2429 - val_accuracy: 0.4268\n",
      "Epoch 8/100\n",
      "39/40 [============================>.] - ETA: 0s - loss: 1.2222 - accuracy: 0.4571\n",
      "Epoch 8: val_accuracy improved from 0.42679 to 0.45000, saving model to CNN_model1\n"
     ]
    },
    {
     "name": "stderr",
     "output_type": "stream",
     "text": [
      "WARNING:absl:Found untraced functions such as _jit_compiled_convolution_op, _jit_compiled_convolution_op, _jit_compiled_convolution_op while saving (showing 3 of 3). These functions will not be directly callable after loading.\n"
     ]
    },
    {
     "name": "stdout",
     "output_type": "stream",
     "text": [
      "INFO:tensorflow:Assets written to: CNN_model1\\assets\n"
     ]
    },
    {
     "name": "stderr",
     "output_type": "stream",
     "text": [
      "INFO:tensorflow:Assets written to: CNN_model1\\assets\n"
     ]
    },
    {
     "name": "stdout",
     "output_type": "stream",
     "text": [
      "40/40 [==============================] - 2s 56ms/step - loss: 1.2208 - accuracy: 0.4588 - val_loss: 1.2326 - val_accuracy: 0.4500\n",
      "Epoch 9/100\n",
      "39/40 [============================>.] - ETA: 0s - loss: 1.1645 - accuracy: 0.5013\n",
      "Epoch 9: val_accuracy improved from 0.45000 to 0.49821, saving model to CNN_model1\n"
     ]
    },
    {
     "name": "stderr",
     "output_type": "stream",
     "text": [
      "WARNING:absl:Found untraced functions such as _jit_compiled_convolution_op, _jit_compiled_convolution_op, _jit_compiled_convolution_op while saving (showing 3 of 3). These functions will not be directly callable after loading.\n"
     ]
    },
    {
     "name": "stdout",
     "output_type": "stream",
     "text": [
      "INFO:tensorflow:Assets written to: CNN_model1\\assets\n"
     ]
    },
    {
     "name": "stderr",
     "output_type": "stream",
     "text": [
      "INFO:tensorflow:Assets written to: CNN_model1\\assets\n"
     ]
    },
    {
     "name": "stdout",
     "output_type": "stream",
     "text": [
      "40/40 [==============================] - 2s 56ms/step - loss: 1.1635 - accuracy: 0.5022 - val_loss: 1.1439 - val_accuracy: 0.4982\n",
      "Epoch 10/100\n",
      "39/40 [============================>.] - ETA: 0s - loss: 1.1116 - accuracy: 0.5372\n",
      "Epoch 10: val_accuracy improved from 0.49821 to 0.50357, saving model to CNN_model1\n"
     ]
    },
    {
     "name": "stderr",
     "output_type": "stream",
     "text": [
      "WARNING:absl:Found untraced functions such as _jit_compiled_convolution_op, _jit_compiled_convolution_op, _jit_compiled_convolution_op while saving (showing 3 of 3). These functions will not be directly callable after loading.\n"
     ]
    },
    {
     "name": "stdout",
     "output_type": "stream",
     "text": [
      "INFO:tensorflow:Assets written to: CNN_model1\\assets\n"
     ]
    },
    {
     "name": "stderr",
     "output_type": "stream",
     "text": [
      "INFO:tensorflow:Assets written to: CNN_model1\\assets\n"
     ]
    },
    {
     "name": "stdout",
     "output_type": "stream",
     "text": [
      "40/40 [==============================] - 3s 64ms/step - loss: 1.1128 - accuracy: 0.5359 - val_loss: 1.1346 - val_accuracy: 0.5036\n",
      "Epoch 11/100\n",
      "39/40 [============================>.] - ETA: 0s - loss: 1.0320 - accuracy: 0.5837\n",
      "Epoch 11: val_accuracy improved from 0.50357 to 0.52679, saving model to CNN_model1\n"
     ]
    },
    {
     "name": "stderr",
     "output_type": "stream",
     "text": [
      "WARNING:absl:Found untraced functions such as _jit_compiled_convolution_op, _jit_compiled_convolution_op, _jit_compiled_convolution_op while saving (showing 3 of 3). These functions will not be directly callable after loading.\n"
     ]
    },
    {
     "name": "stdout",
     "output_type": "stream",
     "text": [
      "INFO:tensorflow:Assets written to: CNN_model1\\assets\n"
     ]
    },
    {
     "name": "stderr",
     "output_type": "stream",
     "text": [
      "INFO:tensorflow:Assets written to: CNN_model1\\assets\n"
     ]
    },
    {
     "name": "stdout",
     "output_type": "stream",
     "text": [
      "40/40 [==============================] - 2s 57ms/step - loss: 1.0323 - accuracy: 0.5828 - val_loss: 1.0990 - val_accuracy: 0.5268\n",
      "Epoch 12/100\n",
      "39/40 [============================>.] - ETA: 0s - loss: 1.0056 - accuracy: 0.5808\n",
      "Epoch 12: val_accuracy did not improve from 0.52679\n",
      "40/40 [==============================] - 1s 35ms/step - loss: 1.0089 - accuracy: 0.5806 - val_loss: 1.1734 - val_accuracy: 0.4911\n",
      "Epoch 13/100\n",
      "39/40 [============================>.] - ETA: 0s - loss: 0.9446 - accuracy: 0.6157\n",
      "Epoch 13: val_accuracy improved from 0.52679 to 0.55893, saving model to CNN_model1\n"
     ]
    },
    {
     "name": "stderr",
     "output_type": "stream",
     "text": [
      "WARNING:absl:Found untraced functions such as _jit_compiled_convolution_op, _jit_compiled_convolution_op, _jit_compiled_convolution_op while saving (showing 3 of 3). These functions will not be directly callable after loading.\n"
     ]
    },
    {
     "name": "stdout",
     "output_type": "stream",
     "text": [
      "INFO:tensorflow:Assets written to: CNN_model1\\assets\n"
     ]
    },
    {
     "name": "stderr",
     "output_type": "stream",
     "text": [
      "INFO:tensorflow:Assets written to: CNN_model1\\assets\n"
     ]
    },
    {
     "name": "stdout",
     "output_type": "stream",
     "text": [
      "40/40 [==============================] - 2s 63ms/step - loss: 0.9478 - accuracy: 0.6159 - val_loss: 1.0805 - val_accuracy: 0.5589\n",
      "Epoch 14/100\n",
      "39/40 [============================>.] - ETA: 0s - loss: 0.8696 - accuracy: 0.6583\n",
      "Epoch 14: val_accuracy improved from 0.55893 to 0.56071, saving model to CNN_model1\n"
     ]
    },
    {
     "name": "stderr",
     "output_type": "stream",
     "text": [
      "WARNING:absl:Found untraced functions such as _jit_compiled_convolution_op, _jit_compiled_convolution_op, _jit_compiled_convolution_op while saving (showing 3 of 3). These functions will not be directly callable after loading.\n"
     ]
    },
    {
     "name": "stdout",
     "output_type": "stream",
     "text": [
      "INFO:tensorflow:Assets written to: CNN_model1\\assets\n"
     ]
    },
    {
     "name": "stderr",
     "output_type": "stream",
     "text": [
      "INFO:tensorflow:Assets written to: CNN_model1\\assets\n"
     ]
    },
    {
     "name": "stdout",
     "output_type": "stream",
     "text": [
      "40/40 [==============================] - 2s 60ms/step - loss: 0.8700 - accuracy: 0.6575 - val_loss: 1.0517 - val_accuracy: 0.5607\n",
      "Epoch 15/100\n",
      "39/40 [============================>.] - ETA: 0s - loss: 0.7955 - accuracy: 0.6875\n",
      "Epoch 15: val_accuracy improved from 0.56071 to 0.59643, saving model to CNN_model1\n"
     ]
    },
    {
     "name": "stderr",
     "output_type": "stream",
     "text": [
      "WARNING:absl:Found untraced functions such as _jit_compiled_convolution_op, _jit_compiled_convolution_op, _jit_compiled_convolution_op while saving (showing 3 of 3). These functions will not be directly callable after loading.\n"
     ]
    },
    {
     "name": "stdout",
     "output_type": "stream",
     "text": [
      "INFO:tensorflow:Assets written to: CNN_model1\\assets\n"
     ]
    },
    {
     "name": "stderr",
     "output_type": "stream",
     "text": [
      "INFO:tensorflow:Assets written to: CNN_model1\\assets\n"
     ]
    },
    {
     "name": "stdout",
     "output_type": "stream",
     "text": [
      "40/40 [==============================] - 3s 67ms/step - loss: 0.7973 - accuracy: 0.6872 - val_loss: 1.1053 - val_accuracy: 0.5964\n",
      "Epoch 16/100\n",
      "39/40 [============================>.] - ETA: 0s - loss: 0.7314 - accuracy: 0.7173\n",
      "Epoch 16: val_accuracy improved from 0.59643 to 0.62143, saving model to CNN_model1\n"
     ]
    },
    {
     "name": "stderr",
     "output_type": "stream",
     "text": [
      "WARNING:absl:Found untraced functions such as _jit_compiled_convolution_op, _jit_compiled_convolution_op, _jit_compiled_convolution_op while saving (showing 3 of 3). These functions will not be directly callable after loading.\n"
     ]
    },
    {
     "name": "stdout",
     "output_type": "stream",
     "text": [
      "INFO:tensorflow:Assets written to: CNN_model1\\assets\n"
     ]
    },
    {
     "name": "stderr",
     "output_type": "stream",
     "text": [
      "INFO:tensorflow:Assets written to: CNN_model1\\assets\n"
     ]
    },
    {
     "name": "stdout",
     "output_type": "stream",
     "text": [
      "40/40 [==============================] - 2s 56ms/step - loss: 0.7317 - accuracy: 0.7166 - val_loss: 0.9956 - val_accuracy: 0.6214\n",
      "Epoch 17/100\n",
      "39/40 [============================>.] - ETA: 0s - loss: 0.6792 - accuracy: 0.7333\n",
      "Epoch 17: val_accuracy did not improve from 0.62143\n",
      "40/40 [==============================] - 1s 31ms/step - loss: 0.6832 - accuracy: 0.7322 - val_loss: 1.0793 - val_accuracy: 0.5786\n",
      "Epoch 18/100\n",
      "39/40 [============================>.] - ETA: 0s - loss: 0.6088 - accuracy: 0.7699\n",
      "Epoch 18: val_accuracy improved from 0.62143 to 0.68214, saving model to CNN_model1\n"
     ]
    },
    {
     "name": "stderr",
     "output_type": "stream",
     "text": [
      "WARNING:absl:Found untraced functions such as _jit_compiled_convolution_op, _jit_compiled_convolution_op, _jit_compiled_convolution_op while saving (showing 3 of 3). These functions will not be directly callable after loading.\n"
     ]
    },
    {
     "name": "stdout",
     "output_type": "stream",
     "text": [
      "INFO:tensorflow:Assets written to: CNN_model1\\assets\n"
     ]
    },
    {
     "name": "stderr",
     "output_type": "stream",
     "text": [
      "INFO:tensorflow:Assets written to: CNN_model1\\assets\n"
     ]
    },
    {
     "name": "stdout",
     "output_type": "stream",
     "text": [
      "40/40 [==============================] - 2s 56ms/step - loss: 0.6080 - accuracy: 0.7697 - val_loss: 0.9651 - val_accuracy: 0.6821\n",
      "Epoch 19/100\n",
      "39/40 [============================>.] - ETA: 0s - loss: 0.5107 - accuracy: 0.8135\n",
      "Epoch 19: val_accuracy did not improve from 0.68214\n",
      "40/40 [==============================] - 1s 32ms/step - loss: 0.5097 - accuracy: 0.8138 - val_loss: 1.1243 - val_accuracy: 0.6232\n",
      "Epoch 20/100\n",
      "39/40 [============================>.] - ETA: 0s - loss: 0.5222 - accuracy: 0.8016\n",
      "Epoch 20: val_accuracy did not improve from 0.68214\n",
      "40/40 [==============================] - 1s 33ms/step - loss: 0.5263 - accuracy: 0.7997 - val_loss: 1.0978 - val_accuracy: 0.6339\n",
      "Epoch 21/100\n",
      "39/40 [============================>.] - ETA: 0s - loss: 0.4419 - accuracy: 0.8394\n",
      "Epoch 21: val_accuracy did not improve from 0.68214\n",
      "40/40 [==============================] - 1s 33ms/step - loss: 0.4422 - accuracy: 0.8397 - val_loss: 1.0858 - val_accuracy: 0.6661\n",
      "Epoch 22/100\n",
      "39/40 [============================>.] - ETA: 0s - loss: 0.3533 - accuracy: 0.8788\n",
      "Epoch 22: val_accuracy improved from 0.68214 to 0.69821, saving model to CNN_model1\n"
     ]
    },
    {
     "name": "stderr",
     "output_type": "stream",
     "text": [
      "WARNING:absl:Found untraced functions such as _jit_compiled_convolution_op, _jit_compiled_convolution_op, _jit_compiled_convolution_op while saving (showing 3 of 3). These functions will not be directly callable after loading.\n"
     ]
    },
    {
     "name": "stdout",
     "output_type": "stream",
     "text": [
      "INFO:tensorflow:Assets written to: CNN_model1\\assets\n"
     ]
    },
    {
     "name": "stderr",
     "output_type": "stream",
     "text": [
      "INFO:tensorflow:Assets written to: CNN_model1\\assets\n"
     ]
    },
    {
     "name": "stdout",
     "output_type": "stream",
     "text": [
      "40/40 [==============================] - 2s 56ms/step - loss: 0.3517 - accuracy: 0.8791 - val_loss: 1.0607 - val_accuracy: 0.6982\n",
      "Epoch 23/100\n",
      "39/40 [============================>.] - ETA: 0s - loss: 0.3355 - accuracy: 0.8910\n",
      "Epoch 23: val_accuracy did not improve from 0.69821\n",
      "40/40 [==============================] - 1s 32ms/step - loss: 0.3352 - accuracy: 0.8909 - val_loss: 1.1061 - val_accuracy: 0.6911\n",
      "Epoch 24/100\n",
      "39/40 [============================>.] - ETA: 0s - loss: 0.2499 - accuracy: 0.9128\n",
      "Epoch 24: val_accuracy did not improve from 0.69821\n",
      "40/40 [==============================] - 1s 31ms/step - loss: 0.2523 - accuracy: 0.9116 - val_loss: 1.3855 - val_accuracy: 0.6679\n",
      "Epoch 25/100\n",
      "39/40 [============================>.] - ETA: 0s - loss: 0.2733 - accuracy: 0.9090\n",
      "Epoch 25: val_accuracy did not improve from 0.69821\n",
      "40/40 [==============================] - 1s 32ms/step - loss: 0.2724 - accuracy: 0.9087 - val_loss: 1.3360 - val_accuracy: 0.6857\n",
      "Epoch 26/100\n",
      "39/40 [============================>.] - ETA: 0s - loss: 0.2761 - accuracy: 0.9087\n",
      "Epoch 26: val_accuracy did not improve from 0.69821\n",
      "40/40 [==============================] - 1s 32ms/step - loss: 0.2773 - accuracy: 0.9078 - val_loss: 1.2933 - val_accuracy: 0.6929\n",
      "Epoch 27/100\n",
      "39/40 [============================>.] - ETA: 0s - loss: 0.2086 - accuracy: 0.9295\n",
      "Epoch 27: val_accuracy improved from 0.69821 to 0.71964, saving model to CNN_model1\n"
     ]
    },
    {
     "name": "stderr",
     "output_type": "stream",
     "text": [
      "WARNING:absl:Found untraced functions such as _jit_compiled_convolution_op, _jit_compiled_convolution_op, _jit_compiled_convolution_op while saving (showing 3 of 3). These functions will not be directly callable after loading.\n"
     ]
    },
    {
     "name": "stdout",
     "output_type": "stream",
     "text": [
      "INFO:tensorflow:Assets written to: CNN_model1\\assets\n"
     ]
    },
    {
     "name": "stderr",
     "output_type": "stream",
     "text": [
      "INFO:tensorflow:Assets written to: CNN_model1\\assets\n"
     ]
    },
    {
     "name": "stdout",
     "output_type": "stream",
     "text": [
      "40/40 [==============================] - 3s 64ms/step - loss: 0.2074 - accuracy: 0.9300 - val_loss: 1.3417 - val_accuracy: 0.7196\n",
      "Epoch 28/100\n",
      "39/40 [============================>.] - ETA: 0s - loss: 0.1819 - accuracy: 0.9420\n",
      "Epoch 28: val_accuracy did not improve from 0.71964\n",
      "40/40 [==============================] - 1s 33ms/step - loss: 0.1829 - accuracy: 0.9413 - val_loss: 1.4047 - val_accuracy: 0.7196\n",
      "Epoch 29/100\n",
      "39/40 [============================>.] - ETA: 0s - loss: 0.1589 - accuracy: 0.9452\n",
      "Epoch 29: val_accuracy improved from 0.71964 to 0.72321, saving model to CNN_model1\n"
     ]
    },
    {
     "name": "stderr",
     "output_type": "stream",
     "text": [
      "WARNING:absl:Found untraced functions such as _jit_compiled_convolution_op, _jit_compiled_convolution_op, _jit_compiled_convolution_op while saving (showing 3 of 3). These functions will not be directly callable after loading.\n"
     ]
    },
    {
     "name": "stdout",
     "output_type": "stream",
     "text": [
      "INFO:tensorflow:Assets written to: CNN_model1\\assets\n"
     ]
    },
    {
     "name": "stderr",
     "output_type": "stream",
     "text": [
      "INFO:tensorflow:Assets written to: CNN_model1\\assets\n"
     ]
    },
    {
     "name": "stdout",
     "output_type": "stream",
     "text": [
      "40/40 [==============================] - 3s 65ms/step - loss: 0.1583 - accuracy: 0.9450 - val_loss: 1.5301 - val_accuracy: 0.7232\n",
      "Epoch 30/100\n",
      "39/40 [============================>.] - ETA: 0s - loss: 0.1556 - accuracy: 0.9510\n",
      "Epoch 30: val_accuracy did not improve from 0.72321\n",
      "40/40 [==============================] - 1s 34ms/step - loss: 0.1560 - accuracy: 0.9506 - val_loss: 1.5527 - val_accuracy: 0.7018\n",
      "Epoch 31/100\n",
      "39/40 [============================>.] - ETA: 0s - loss: 0.1231 - accuracy: 0.9603\n",
      "Epoch 31: val_accuracy did not improve from 0.72321\n",
      "40/40 [==============================] - 1s 34ms/step - loss: 0.1210 - accuracy: 0.9609 - val_loss: 1.5151 - val_accuracy: 0.7232\n",
      "Epoch 32/100\n",
      "39/40 [============================>.] - ETA: 0s - loss: 0.0961 - accuracy: 0.9708\n",
      "Epoch 32: val_accuracy did not improve from 0.72321\n",
      "40/40 [==============================] - 1s 33ms/step - loss: 0.0958 - accuracy: 0.9712 - val_loss: 1.8282 - val_accuracy: 0.7196\n",
      "Epoch 33/100\n",
      "39/40 [============================>.] - ETA: 0s - loss: 0.1309 - accuracy: 0.9625\n",
      "Epoch 33: val_accuracy improved from 0.72321 to 0.72857, saving model to CNN_model1\n"
     ]
    },
    {
     "name": "stderr",
     "output_type": "stream",
     "text": [
      "WARNING:absl:Found untraced functions such as _jit_compiled_convolution_op, _jit_compiled_convolution_op, _jit_compiled_convolution_op while saving (showing 3 of 3). These functions will not be directly callable after loading.\n"
     ]
    },
    {
     "name": "stdout",
     "output_type": "stream",
     "text": [
      "INFO:tensorflow:Assets written to: CNN_model1\\assets\n"
     ]
    },
    {
     "name": "stderr",
     "output_type": "stream",
     "text": [
      "INFO:tensorflow:Assets written to: CNN_model1\\assets\n"
     ]
    },
    {
     "name": "stdout",
     "output_type": "stream",
     "text": [
      "40/40 [==============================] - 2s 56ms/step - loss: 0.1361 - accuracy: 0.9606 - val_loss: 1.5590 - val_accuracy: 0.7286\n",
      "Epoch 34/100\n",
      "39/40 [============================>.] - ETA: 0s - loss: 0.2042 - accuracy: 0.9308\n",
      "Epoch 34: val_accuracy improved from 0.72857 to 0.73929, saving model to CNN_model1\n"
     ]
    },
    {
     "name": "stderr",
     "output_type": "stream",
     "text": [
      "WARNING:absl:Found untraced functions such as _jit_compiled_convolution_op, _jit_compiled_convolution_op, _jit_compiled_convolution_op while saving (showing 3 of 3). These functions will not be directly callable after loading.\n"
     ]
    },
    {
     "name": "stdout",
     "output_type": "stream",
     "text": [
      "INFO:tensorflow:Assets written to: CNN_model1\\assets\n"
     ]
    },
    {
     "name": "stderr",
     "output_type": "stream",
     "text": [
      "INFO:tensorflow:Assets written to: CNN_model1\\assets\n"
     ]
    },
    {
     "name": "stdout",
     "output_type": "stream",
     "text": [
      "40/40 [==============================] - 2s 56ms/step - loss: 0.2026 - accuracy: 0.9322 - val_loss: 1.4118 - val_accuracy: 0.7393\n",
      "Epoch 35/100\n",
      "39/40 [============================>.] - ETA: 0s - loss: 0.0945 - accuracy: 0.9721\n",
      "Epoch 35: val_accuracy did not improve from 0.73929\n",
      "40/40 [==============================] - 1s 32ms/step - loss: 0.0939 - accuracy: 0.9722 - val_loss: 1.6446 - val_accuracy: 0.7357\n",
      "Epoch 36/100\n",
      "39/40 [============================>.] - ETA: 0s - loss: 0.0638 - accuracy: 0.9801\n",
      "Epoch 36: val_accuracy improved from 0.73929 to 0.74286, saving model to CNN_model1\n"
     ]
    },
    {
     "name": "stderr",
     "output_type": "stream",
     "text": [
      "WARNING:absl:Found untraced functions such as _jit_compiled_convolution_op, _jit_compiled_convolution_op, _jit_compiled_convolution_op while saving (showing 3 of 3). These functions will not be directly callable after loading.\n"
     ]
    },
    {
     "name": "stdout",
     "output_type": "stream",
     "text": [
      "INFO:tensorflow:Assets written to: CNN_model1\\assets\n"
     ]
    },
    {
     "name": "stderr",
     "output_type": "stream",
     "text": [
      "INFO:tensorflow:Assets written to: CNN_model1\\assets\n"
     ]
    },
    {
     "name": "stdout",
     "output_type": "stream",
     "text": [
      "40/40 [==============================] - 3s 65ms/step - loss: 0.0661 - accuracy: 0.9784 - val_loss: 1.7164 - val_accuracy: 0.7429\n",
      "Epoch 37/100\n",
      "39/40 [============================>.] - ETA: 0s - loss: 0.0487 - accuracy: 0.9878\n",
      "Epoch 37: val_accuracy did not improve from 0.74286\n",
      "40/40 [==============================] - 1s 32ms/step - loss: 0.0508 - accuracy: 0.9872 - val_loss: 1.9756 - val_accuracy: 0.7268\n",
      "Epoch 38/100\n",
      "39/40 [============================>.] - ETA: 0s - loss: 0.0400 - accuracy: 0.9888\n",
      "Epoch 38: val_accuracy did not improve from 0.74286\n",
      "40/40 [==============================] - 1s 32ms/step - loss: 0.0408 - accuracy: 0.9887 - val_loss: 1.9684 - val_accuracy: 0.7339\n",
      "Epoch 39/100\n",
      "39/40 [============================>.] - ETA: 0s - loss: 0.0375 - accuracy: 0.9901\n",
      "Epoch 39: val_accuracy did not improve from 0.74286\n",
      "40/40 [==============================] - 1s 31ms/step - loss: 0.0379 - accuracy: 0.9897 - val_loss: 2.0069 - val_accuracy: 0.7304\n",
      "Epoch 40/100\n",
      "39/40 [============================>.] - ETA: 0s - loss: 0.0350 - accuracy: 0.9904\n",
      "Epoch 40: val_accuracy did not improve from 0.74286\n",
      "40/40 [==============================] - 1s 32ms/step - loss: 0.0352 - accuracy: 0.9903 - val_loss: 2.0137 - val_accuracy: 0.7393\n",
      "Epoch 41/100\n",
      "39/40 [============================>.] - ETA: 0s - loss: 0.0286 - accuracy: 0.9936\n",
      "Epoch 41: val_accuracy did not improve from 0.74286\n",
      "40/40 [==============================] - 1s 32ms/step - loss: 0.0284 - accuracy: 0.9937 - val_loss: 2.0506 - val_accuracy: 0.7375\n",
      "Epoch 42/100\n",
      "39/40 [============================>.] - ETA: 0s - loss: 0.0252 - accuracy: 0.9926\n",
      "Epoch 42: val_accuracy did not improve from 0.74286\n",
      "40/40 [==============================] - 1s 32ms/step - loss: 0.0251 - accuracy: 0.9925 - val_loss: 2.1812 - val_accuracy: 0.7393\n",
      "Epoch 43/100\n",
      "39/40 [============================>.] - ETA: 0s - loss: 0.0194 - accuracy: 0.9955\n",
      "Epoch 43: val_accuracy did not improve from 0.74286\n",
      "40/40 [==============================] - 1s 31ms/step - loss: 0.0203 - accuracy: 0.9953 - val_loss: 2.1563 - val_accuracy: 0.7429\n",
      "Epoch 44/100\n",
      "39/40 [============================>.] - ETA: 0s - loss: 0.0186 - accuracy: 0.9955\n",
      "Epoch 44: val_accuracy improved from 0.74286 to 0.74821, saving model to CNN_model1\n"
     ]
    },
    {
     "name": "stderr",
     "output_type": "stream",
     "text": [
      "WARNING:absl:Found untraced functions such as _jit_compiled_convolution_op, _jit_compiled_convolution_op, _jit_compiled_convolution_op while saving (showing 3 of 3). These functions will not be directly callable after loading.\n"
     ]
    },
    {
     "name": "stdout",
     "output_type": "stream",
     "text": [
      "INFO:tensorflow:Assets written to: CNN_model1\\assets\n"
     ]
    },
    {
     "name": "stderr",
     "output_type": "stream",
     "text": [
      "INFO:tensorflow:Assets written to: CNN_model1\\assets\n"
     ]
    },
    {
     "name": "stdout",
     "output_type": "stream",
     "text": [
      "40/40 [==============================] - 2s 55ms/step - loss: 0.0184 - accuracy: 0.9956 - val_loss: 2.2888 - val_accuracy: 0.7482\n",
      "Epoch 45/100\n",
      "39/40 [============================>.] - ETA: 0s - loss: 0.0187 - accuracy: 0.9942\n",
      "Epoch 45: val_accuracy did not improve from 0.74821\n",
      "40/40 [==============================] - 1s 33ms/step - loss: 0.0196 - accuracy: 0.9941 - val_loss: 2.2782 - val_accuracy: 0.7375\n",
      "Epoch 46/100\n",
      "39/40 [============================>.] - ETA: 0s - loss: 0.3537 - accuracy: 0.9064\n",
      "Epoch 46: val_accuracy did not improve from 0.74821\n",
      "40/40 [==============================] - 1s 33ms/step - loss: 0.3551 - accuracy: 0.9056 - val_loss: 1.5244 - val_accuracy: 0.6857\n",
      "Epoch 47/100\n",
      "39/40 [============================>.] - ETA: 0s - loss: 0.1894 - accuracy: 0.9333\n",
      "Epoch 47: val_accuracy did not improve from 0.74821\n",
      "40/40 [==============================] - 1s 34ms/step - loss: 0.1888 - accuracy: 0.9325 - val_loss: 1.4668 - val_accuracy: 0.7393\n",
      "Epoch 48/100\n",
      "39/40 [============================>.] - ETA: 0s - loss: 0.1075 - accuracy: 0.9683\n",
      "Epoch 48: val_accuracy did not improve from 0.74821\n",
      "40/40 [==============================] - 1s 34ms/step - loss: 0.1062 - accuracy: 0.9688 - val_loss: 2.1877 - val_accuracy: 0.6589\n",
      "Epoch 49/100\n",
      "39/40 [============================>.] - ETA: 0s - loss: 0.0979 - accuracy: 0.9708\n",
      "Epoch 49: val_accuracy did not improve from 0.74821\n",
      "40/40 [==============================] - 1s 34ms/step - loss: 0.0966 - accuracy: 0.9709 - val_loss: 1.7749 - val_accuracy: 0.7321\n",
      "Epoch 50/100\n",
      "39/40 [============================>.] - ETA: 0s - loss: 0.0574 - accuracy: 0.9840\n",
      "Epoch 50: val_accuracy did not improve from 0.74821\n",
      "40/40 [==============================] - 1s 35ms/step - loss: 0.0586 - accuracy: 0.9834 - val_loss: 1.9198 - val_accuracy: 0.7393\n",
      "Epoch 51/100\n",
      "39/40 [============================>.] - ETA: 0s - loss: 0.0533 - accuracy: 0.9846\n",
      "Epoch 51: val_accuracy did not improve from 0.74821\n",
      "40/40 [==============================] - 1s 34ms/step - loss: 0.0526 - accuracy: 0.9850 - val_loss: 1.9697 - val_accuracy: 0.7304\n",
      "Epoch 52/100\n",
      "39/40 [============================>.] - ETA: 0s - loss: 0.0510 - accuracy: 0.9865\n",
      "Epoch 52: val_accuracy improved from 0.74821 to 0.75000, saving model to CNN_model1\n"
     ]
    },
    {
     "name": "stderr",
     "output_type": "stream",
     "text": [
      "WARNING:absl:Found untraced functions such as _jit_compiled_convolution_op, _jit_compiled_convolution_op, _jit_compiled_convolution_op while saving (showing 3 of 3). These functions will not be directly callable after loading.\n"
     ]
    },
    {
     "name": "stdout",
     "output_type": "stream",
     "text": [
      "INFO:tensorflow:Assets written to: CNN_model1\\assets\n"
     ]
    },
    {
     "name": "stderr",
     "output_type": "stream",
     "text": [
      "INFO:tensorflow:Assets written to: CNN_model1\\assets\n"
     ]
    },
    {
     "name": "stdout",
     "output_type": "stream",
     "text": [
      "40/40 [==============================] - 2s 56ms/step - loss: 0.0527 - accuracy: 0.9853 - val_loss: 1.8956 - val_accuracy: 0.7500\n",
      "Epoch 53/100\n",
      "39/40 [============================>.] - ETA: 0s - loss: 0.1033 - accuracy: 0.9654\n",
      "Epoch 53: val_accuracy did not improve from 0.75000\n",
      "40/40 [==============================] - 1s 33ms/step - loss: 0.1024 - accuracy: 0.9656 - val_loss: 1.8598 - val_accuracy: 0.7250\n",
      "Epoch 54/100\n",
      "39/40 [============================>.] - ETA: 0s - loss: 0.0636 - accuracy: 0.9801\n",
      "Epoch 54: val_accuracy did not improve from 0.75000\n",
      "40/40 [==============================] - 1s 32ms/step - loss: 0.0647 - accuracy: 0.9800 - val_loss: 1.8067 - val_accuracy: 0.7357\n",
      "Epoch 55/100\n",
      "39/40 [============================>.] - ETA: 0s - loss: 0.0468 - accuracy: 0.9849\n",
      "Epoch 55: val_accuracy did not improve from 0.75000\n",
      "40/40 [==============================] - 1s 32ms/step - loss: 0.0476 - accuracy: 0.9847 - val_loss: 2.3586 - val_accuracy: 0.7161\n",
      "Epoch 56/100\n",
      "39/40 [============================>.] - ETA: 0s - loss: 0.0562 - accuracy: 0.9859\n",
      "Epoch 56: val_accuracy did not improve from 0.75000\n",
      "40/40 [==============================] - 1s 33ms/step - loss: 0.0553 - accuracy: 0.9862 - val_loss: 2.0065 - val_accuracy: 0.7357\n",
      "Epoch 57/100\n",
      "39/40 [============================>.] - ETA: 0s - loss: 0.0609 - accuracy: 0.9804\n",
      "Epoch 57: val_accuracy did not improve from 0.75000\n",
      "40/40 [==============================] - 1s 32ms/step - loss: 0.0597 - accuracy: 0.9809 - val_loss: 2.0405 - val_accuracy: 0.7089\n",
      "Epoch 58/100\n",
      "39/40 [============================>.] - ETA: 0s - loss: 0.0491 - accuracy: 0.9846\n",
      "Epoch 58: val_accuracy did not improve from 0.75000\n",
      "40/40 [==============================] - 1s 32ms/step - loss: 0.0538 - accuracy: 0.9831 - val_loss: 2.0596 - val_accuracy: 0.7250\n",
      "Epoch 59/100\n",
      "39/40 [============================>.] - ETA: 0s - loss: 0.0331 - accuracy: 0.9897\n",
      "Epoch 59: val_accuracy improved from 0.75000 to 0.75357, saving model to CNN_model1\n"
     ]
    },
    {
     "name": "stderr",
     "output_type": "stream",
     "text": [
      "WARNING:absl:Found untraced functions such as _jit_compiled_convolution_op, _jit_compiled_convolution_op, _jit_compiled_convolution_op while saving (showing 3 of 3). These functions will not be directly callable after loading.\n"
     ]
    },
    {
     "name": "stdout",
     "output_type": "stream",
     "text": [
      "INFO:tensorflow:Assets written to: CNN_model1\\assets\n"
     ]
    },
    {
     "name": "stderr",
     "output_type": "stream",
     "text": [
      "INFO:tensorflow:Assets written to: CNN_model1\\assets\n"
     ]
    },
    {
     "name": "stdout",
     "output_type": "stream",
     "text": [
      "40/40 [==============================] - 2s 56ms/step - loss: 0.0331 - accuracy: 0.9897 - val_loss: 1.8549 - val_accuracy: 0.7536\n",
      "Epoch 60/100\n",
      "39/40 [============================>.] - ETA: 0s - loss: 0.0222 - accuracy: 0.9949\n",
      "Epoch 60: val_accuracy did not improve from 0.75357\n",
      "40/40 [==============================] - 1s 33ms/step - loss: 0.0225 - accuracy: 0.9947 - val_loss: 2.1302 - val_accuracy: 0.7357\n",
      "Epoch 61/100\n",
      "39/40 [============================>.] - ETA: 0s - loss: 0.0154 - accuracy: 0.9962\n",
      "Epoch 61: val_accuracy did not improve from 0.75357\n",
      "40/40 [==============================] - 1s 32ms/step - loss: 0.0166 - accuracy: 0.9959 - val_loss: 2.1876 - val_accuracy: 0.7375\n",
      "Epoch 62/100\n",
      "39/40 [============================>.] - ETA: 0s - loss: 0.0150 - accuracy: 0.9955\n",
      "Epoch 62: val_accuracy did not improve from 0.75357\n",
      "40/40 [==============================] - 1s 32ms/step - loss: 0.0147 - accuracy: 0.9956 - val_loss: 2.2826 - val_accuracy: 0.7536\n",
      "Epoch 63/100\n",
      "39/40 [============================>.] - ETA: 0s - loss: 0.0137 - accuracy: 0.9965\n",
      "Epoch 63: val_accuracy did not improve from 0.75357\n",
      "40/40 [==============================] - 1s 33ms/step - loss: 0.0146 - accuracy: 0.9962 - val_loss: 2.3507 - val_accuracy: 0.7482\n",
      "Epoch 64/100\n",
      "39/40 [============================>.] - ETA: 0s - loss: 0.0149 - accuracy: 0.9955\n",
      "Epoch 64: val_accuracy did not improve from 0.75357\n",
      "40/40 [==============================] - 1s 33ms/step - loss: 0.0158 - accuracy: 0.9953 - val_loss: 2.4060 - val_accuracy: 0.7411\n",
      "Epoch 65/100\n",
      "39/40 [============================>.] - ETA: 0s - loss: 0.0141 - accuracy: 0.9949\n",
      "Epoch 65: val_accuracy did not improve from 0.75357\n",
      "40/40 [==============================] - 1s 33ms/step - loss: 0.0139 - accuracy: 0.9950 - val_loss: 2.5152 - val_accuracy: 0.7357\n",
      "Epoch 66/100\n",
      "39/40 [============================>.] - ETA: 0s - loss: 0.0125 - accuracy: 0.9958\n",
      "Epoch 66: val_accuracy did not improve from 0.75357\n",
      "40/40 [==============================] - 1s 33ms/step - loss: 0.0130 - accuracy: 0.9956 - val_loss: 2.5388 - val_accuracy: 0.7357\n",
      "Epoch 67/100\n",
      "39/40 [============================>.] - ETA: 0s - loss: 0.0124 - accuracy: 0.9965\n",
      "Epoch 67: val_accuracy did not improve from 0.75357\n",
      "40/40 [==============================] - 1s 33ms/step - loss: 0.0124 - accuracy: 0.9966 - val_loss: 2.6613 - val_accuracy: 0.7393\n",
      "Epoch 68/100\n",
      "39/40 [============================>.] - ETA: 0s - loss: 0.0094 - accuracy: 0.9968\n",
      "Epoch 68: val_accuracy did not improve from 0.75357\n",
      "40/40 [==============================] - 1s 32ms/step - loss: 0.0092 - accuracy: 0.9969 - val_loss: 2.5970 - val_accuracy: 0.7393\n",
      "Epoch 69/100\n",
      "39/40 [============================>.] - ETA: 0s - loss: 0.0111 - accuracy: 0.9962\n",
      "Epoch 69: val_accuracy did not improve from 0.75357\n",
      "40/40 [==============================] - 1s 33ms/step - loss: 0.0123 - accuracy: 0.9953 - val_loss: 2.6961 - val_accuracy: 0.7411\n",
      "Epoch 70/100\n",
      "39/40 [============================>.] - ETA: 0s - loss: 0.0163 - accuracy: 0.9942\n",
      "Epoch 70: val_accuracy did not improve from 0.75357\n",
      "40/40 [==============================] - 1s 35ms/step - loss: 0.0166 - accuracy: 0.9941 - val_loss: 2.6688 - val_accuracy: 0.7286\n",
      "Epoch 71/100\n",
      "39/40 [============================>.] - ETA: 0s - loss: 0.0173 - accuracy: 0.9939\n",
      "Epoch 71: val_accuracy did not improve from 0.75357\n",
      "40/40 [==============================] - 1s 34ms/step - loss: 0.0170 - accuracy: 0.9941 - val_loss: 2.9519 - val_accuracy: 0.7125\n",
      "Epoch 72/100\n",
      "39/40 [============================>.] - ETA: 0s - loss: 0.0262 - accuracy: 0.9910\n",
      "Epoch 72: val_accuracy did not improve from 0.75357\n",
      "40/40 [==============================] - 1s 34ms/step - loss: 0.0260 - accuracy: 0.9912 - val_loss: 2.5798 - val_accuracy: 0.7446\n",
      "Epoch 73/100\n",
      "39/40 [============================>.] - ETA: 0s - loss: 0.0351 - accuracy: 0.9894\n",
      "Epoch 73: val_accuracy did not improve from 0.75357\n",
      "40/40 [==============================] - 1s 33ms/step - loss: 0.0346 - accuracy: 0.9897 - val_loss: 2.3899 - val_accuracy: 0.7161\n",
      "Epoch 74/100\n",
      "39/40 [============================>.] - ETA: 0s - loss: 0.0832 - accuracy: 0.9750\n",
      "Epoch 74: val_accuracy did not improve from 0.75357\n",
      "40/40 [==============================] - 1s 32ms/step - loss: 0.0814 - accuracy: 0.9756 - val_loss: 2.2409 - val_accuracy: 0.7357\n",
      "Epoch 75/100\n",
      "39/40 [============================>.] - ETA: 0s - loss: 0.0906 - accuracy: 0.9763\n",
      "Epoch 75: val_accuracy did not improve from 0.75357\n",
      "40/40 [==============================] - 1s 32ms/step - loss: 0.0889 - accuracy: 0.9769 - val_loss: 2.2916 - val_accuracy: 0.7232\n",
      "Epoch 76/100\n",
      "39/40 [============================>.] - ETA: 0s - loss: 0.0972 - accuracy: 0.9654\n",
      "Epoch 76: val_accuracy did not improve from 0.75357\n",
      "40/40 [==============================] - 1s 32ms/step - loss: 0.0998 - accuracy: 0.9641 - val_loss: 2.1353 - val_accuracy: 0.6964\n",
      "Epoch 77/100\n",
      "39/40 [============================>.] - ETA: 0s - loss: 0.0903 - accuracy: 0.9715\n",
      "Epoch 77: val_accuracy did not improve from 0.75357\n",
      "40/40 [==============================] - 1s 32ms/step - loss: 0.0888 - accuracy: 0.9719 - val_loss: 1.8695 - val_accuracy: 0.7429\n",
      "Epoch 78/100\n",
      "39/40 [============================>.] - ETA: 0s - loss: 0.0796 - accuracy: 0.9708\n",
      "Epoch 78: val_accuracy did not improve from 0.75357\n",
      "40/40 [==============================] - 1s 32ms/step - loss: 0.0794 - accuracy: 0.9712 - val_loss: 2.2157 - val_accuracy: 0.6964\n",
      "Epoch 79/100\n",
      "39/40 [============================>.] - ETA: 0s - loss: 0.0677 - accuracy: 0.9814\n",
      "Epoch 79: val_accuracy did not improve from 0.75357\n",
      "40/40 [==============================] - 1s 32ms/step - loss: 0.0666 - accuracy: 0.9816 - val_loss: 2.0750 - val_accuracy: 0.7232\n",
      "Epoch 80/100\n",
      "39/40 [============================>.] - ETA: 0s - loss: 0.0260 - accuracy: 0.9939\n",
      "Epoch 80: val_accuracy did not improve from 0.75357\n",
      "40/40 [==============================] - 1s 32ms/step - loss: 0.0266 - accuracy: 0.9937 - val_loss: 2.4221 - val_accuracy: 0.7304\n",
      "Epoch 81/100\n",
      "39/40 [============================>.] - ETA: 0s - loss: 0.0149 - accuracy: 0.9958\n",
      "Epoch 81: val_accuracy did not improve from 0.75357\n",
      "40/40 [==============================] - 1s 32ms/step - loss: 0.0146 - accuracy: 0.9959 - val_loss: 2.6020 - val_accuracy: 0.7286\n",
      "Epoch 82/100\n",
      "39/40 [============================>.] - ETA: 0s - loss: 0.0123 - accuracy: 0.9965\n",
      "Epoch 82: val_accuracy did not improve from 0.75357\n",
      "40/40 [==============================] - 1s 32ms/step - loss: 0.0120 - accuracy: 0.9966 - val_loss: 2.5420 - val_accuracy: 0.7286\n",
      "Epoch 83/100\n",
      "39/40 [============================>.] - ETA: 0s - loss: 0.0103 - accuracy: 0.9968\n",
      "Epoch 83: val_accuracy did not improve from 0.75357\n",
      "40/40 [==============================] - 1s 32ms/step - loss: 0.0101 - accuracy: 0.9969 - val_loss: 2.5760 - val_accuracy: 0.7286\n",
      "Epoch 84/100\n",
      "39/40 [============================>.] - ETA: 0s - loss: 0.0102 - accuracy: 0.9968\n",
      "Epoch 84: val_accuracy did not improve from 0.75357\n",
      "40/40 [==============================] - 1s 32ms/step - loss: 0.0105 - accuracy: 0.9966 - val_loss: 2.6259 - val_accuracy: 0.7411\n",
      "Epoch 85/100\n",
      "39/40 [============================>.] - ETA: 0s - loss: 0.1008 - accuracy: 0.9702\n",
      "Epoch 85: val_accuracy did not improve from 0.75357\n",
      "40/40 [==============================] - 1s 32ms/step - loss: 0.0992 - accuracy: 0.9709 - val_loss: 2.5219 - val_accuracy: 0.6768\n",
      "Epoch 86/100\n",
      "39/40 [============================>.] - ETA: 0s - loss: 0.0817 - accuracy: 0.9737\n",
      "Epoch 86: val_accuracy did not improve from 0.75357\n",
      "40/40 [==============================] - 1s 32ms/step - loss: 0.0812 - accuracy: 0.9737 - val_loss: 2.2252 - val_accuracy: 0.7125\n",
      "Epoch 87/100\n",
      "39/40 [============================>.] - ETA: 0s - loss: 0.0350 - accuracy: 0.9888\n",
      "Epoch 87: val_accuracy did not improve from 0.75357\n",
      "40/40 [==============================] - 1s 32ms/step - loss: 0.0358 - accuracy: 0.9884 - val_loss: 2.0127 - val_accuracy: 0.7286\n",
      "Epoch 88/100\n",
      "39/40 [============================>.] - ETA: 0s - loss: 0.0310 - accuracy: 0.9923\n",
      "Epoch 88: val_accuracy did not improve from 0.75357\n",
      "40/40 [==============================] - 1s 32ms/step - loss: 0.0307 - accuracy: 0.9925 - val_loss: 2.2890 - val_accuracy: 0.7446\n",
      "Epoch 89/100\n"
     ]
    },
    {
     "name": "stdout",
     "output_type": "stream",
     "text": [
      "39/40 [============================>.] - ETA: 0s - loss: 0.0146 - accuracy: 0.9952\n",
      "Epoch 89: val_accuracy did not improve from 0.75357\n",
      "40/40 [==============================] - 1s 32ms/step - loss: 0.0159 - accuracy: 0.9947 - val_loss: 2.3564 - val_accuracy: 0.7429\n",
      "Epoch 90/100\n",
      "39/40 [============================>.] - ETA: 0s - loss: 0.0123 - accuracy: 0.9958\n",
      "Epoch 90: val_accuracy did not improve from 0.75357\n",
      "40/40 [==============================] - 1s 32ms/step - loss: 0.0121 - accuracy: 0.9959 - val_loss: 2.4468 - val_accuracy: 0.7464\n",
      "Epoch 91/100\n",
      "39/40 [============================>.] - ETA: 0s - loss: 0.0206 - accuracy: 0.9949\n",
      "Epoch 91: val_accuracy did not improve from 0.75357\n",
      "40/40 [==============================] - 1s 32ms/step - loss: 0.0204 - accuracy: 0.9947 - val_loss: 2.5234 - val_accuracy: 0.7500\n",
      "Epoch 92/100\n",
      "39/40 [============================>.] - ETA: 0s - loss: 0.0192 - accuracy: 0.9946\n",
      "Epoch 92: val_accuracy did not improve from 0.75357\n",
      "40/40 [==============================] - 1s 32ms/step - loss: 0.0191 - accuracy: 0.9947 - val_loss: 2.4241 - val_accuracy: 0.7518\n",
      "Epoch 93/100\n",
      "39/40 [============================>.] - ETA: 0s - loss: 0.0169 - accuracy: 0.9936\n",
      "Epoch 93: val_accuracy did not improve from 0.75357\n",
      "40/40 [==============================] - 1s 33ms/step - loss: 0.0166 - accuracy: 0.9937 - val_loss: 2.3625 - val_accuracy: 0.7357\n",
      "Epoch 94/100\n",
      "39/40 [============================>.] - ETA: 0s - loss: 0.0129 - accuracy: 0.9958\n",
      "Epoch 94: val_accuracy did not improve from 0.75357\n",
      "40/40 [==============================] - 1s 35ms/step - loss: 0.0126 - accuracy: 0.9959 - val_loss: 2.4531 - val_accuracy: 0.7411\n",
      "Epoch 95/100\n",
      "39/40 [============================>.] - ETA: 0s - loss: 0.0107 - accuracy: 0.9962\n",
      "Epoch 95: val_accuracy did not improve from 0.75357\n",
      "40/40 [==============================] - 1s 35ms/step - loss: 0.0124 - accuracy: 0.9956 - val_loss: 2.4337 - val_accuracy: 0.7375\n",
      "Epoch 96/100\n",
      "39/40 [============================>.] - ETA: 0s - loss: 0.0099 - accuracy: 0.9962\n",
      "Epoch 96: val_accuracy did not improve from 0.75357\n",
      "40/40 [==============================] - 1s 34ms/step - loss: 0.0098 - accuracy: 0.9962 - val_loss: 2.6837 - val_accuracy: 0.7429\n",
      "Epoch 97/100\n",
      "39/40 [============================>.] - ETA: 0s - loss: 0.0103 - accuracy: 0.9962\n",
      "Epoch 97: val_accuracy did not improve from 0.75357\n",
      "40/40 [==============================] - 1s 32ms/step - loss: 0.0101 - accuracy: 0.9962 - val_loss: 2.5598 - val_accuracy: 0.7357\n",
      "Epoch 98/100\n",
      "39/40 [============================>.] - ETA: 0s - loss: 0.0092 - accuracy: 0.9962\n",
      "Epoch 98: val_accuracy did not improve from 0.75357\n",
      "40/40 [==============================] - 1s 32ms/step - loss: 0.0090 - accuracy: 0.9962 - val_loss: 2.6558 - val_accuracy: 0.7375\n",
      "Epoch 99/100\n",
      "39/40 [============================>.] - ETA: 0s - loss: 0.0083 - accuracy: 0.9965\n",
      "Epoch 99: val_accuracy did not improve from 0.75357\n",
      "40/40 [==============================] - 1s 32ms/step - loss: 0.0082 - accuracy: 0.9966 - val_loss: 2.7620 - val_accuracy: 0.7286\n",
      "Epoch 100/100\n",
      "39/40 [============================>.] - ETA: 0s - loss: 0.0067 - accuracy: 0.9978\n",
      "Epoch 100: val_accuracy did not improve from 0.75357\n",
      "40/40 [==============================] - 1s 32ms/step - loss: 0.0071 - accuracy: 0.9975 - val_loss: 2.7216 - val_accuracy: 0.7375\n"
     ]
    }
   ],
   "source": [
    "history1 = model1.fit(trainX, trainY, batch_size=80, epochs=100, validation_data=(valX, valY), callbacks=[checkpoint])"
   ]
  },
  {
   "cell_type": "code",
   "execution_count": 14,
   "id": "d647c72a",
   "metadata": {
    "scrolled": false
   },
   "outputs": [
    {
     "data": {
      "image/png": "[encoded data removed]",
      "text/plain": [
       "<Figure size 800x400 with 1 Axes>"
      ]
     },
     "metadata": {},
     "output_type": "display_data"
    }
   ],
   "source": [
    "best = np.round(max(history1.history['val_accuracy']), 2)\n",
    "epoch = np.argmax(history1.history['val_accuracy'])\n",
    "plt.figure(figsize=(8,4))\n",
    "plt.plot(history1.history['accuracy'], label='Training Accuracy')\n",
    "plt.plot(history1.history['val_accuracy'], label='Validation Accuracy')\n",
    "plt.axvline(x=epoch, color='r', linestyle='--', label=f'Best Validation = {best}')\n",
    "plt.title('Epoch vs. Accuracy (Model1)')\n",
    "plt.xlabel('Epoch')\n",
    "plt.ylabel('Accuracy')\n",
    "plt.legend()\n",
    "plt.savefig('CNN_model1\\\\CNN1_Epochs.png', dpi=300)\n",
    "plt.show()"
   ]
  },
  {
   "cell_type": "code",
   "execution_count": 15,
   "id": "2a61f5c3",
   "metadata": {},
   "outputs": [],
   "source": [
    "model1 = tf.keras.models.load_model('CNN_model1')"
   ]
  },
  {
   "cell_type": "code",
   "execution_count": 16,
   "id": "c693cf56",
   "metadata": {},
   "outputs": [
    {
     "name": "stdout",
     "output_type": "stream",
     "text": [
      "8/8 [==============================] - 0s 19ms/step - loss: 1.5573 - accuracy: 0.7417\n"
     ]
    },
    {
     "data": {
      "text/plain": [
       "[1.5573428869247437, 0.7416666746139526]"
      ]
     },
     "execution_count": 16,
     "metadata": {},
     "output_type": "execute_result"
    }
   ],
   "source": [
    "model1.evaluate(testX, testY)"
   ]
  },
  {
   "cell_type": "code",
   "execution_count": 17,
   "id": "313560bb",
   "metadata": {},
   "outputs": [
    {
     "name": "stdout",
     "output_type": "stream",
     "text": [
      "8/8 [==============================] - 0s 6ms/step\n"
     ]
    },
    {
     "data": {
      "image/png": "[encoded data removed]",
      "text/plain": [
       "<Figure size 600x600 with 1 Axes>"
      ]
     },
     "metadata": {},
     "output_type": "display_data"
    }
   ],
   "source": [
    "predY=model1.predict(testX)\n",
    "predY_classes=np.argmax(predY,axis=1)\n",
    "trueY=np.argmax(testY,axis=1)\n",
    "\n",
    "conf_mat=confusion_matrix(trueY, predY_classes)\n",
    "\n",
    "f,ax=plt.subplots(figsize=(6,6))\n",
    "sns.heatmap(conf_mat, annot=True, cbar=False, cmap=\"Purples\")\n",
    "plt.title('Confusion Matrix (CNN1)')\n",
    "plt.xlabel('Predicted Class')\n",
    "plt.ylabel('True Class')\n",
    "ax.set_xticklabels(categories.values())\n",
    "ax.set_yticklabels(categories.values())\n",
    "plt.savefig('CNN_model1\\\\CNN1_Confusion.png', dpi=300)\n",
    "plt.show()"
   ]
  },
  {
   "cell_type": "markdown",
   "id": "c3f14f3e",
   "metadata": {},
   "source": [
    "## CNN Model 2"
   ]
  },
  {
   "cell_type": "code",
   "execution_count": 18,
   "id": "1cf91ba2",
   "metadata": {},
   "outputs": [],
   "source": [
    "model2 = Sequential([\n",
    "\n",
    "    Conv2D(filters=8,kernel_size=(3,3), padding=\"Same\", activation=\"relu\", input_shape=(100, 100, 3)),\n",
    "    MaxPooling2D(pool_size=(2,2)),\n",
    "    Dropout(0.35),\n",
    "\n",
    "    Conv2D(filters=16, kernel_size=(3,3), padding=\"Same\", activation=\"relu\"),\n",
    "    MaxPooling2D(pool_size=(2,2),strides=(2,2)),\n",
    "    Dropout(0.35),\n",
    "    \n",
    "    Conv2D(filters=32, kernel_size=(3,3), padding=\"Same\", activation=\"relu\"),\n",
    "    MaxPooling2D(pool_size=(2,2), strides=(2,2)),\n",
    "    Dropout(0.35),\n",
    "    \n",
    "    Flatten(),\n",
    "    \n",
    "    Dense(256, activation=\"relu\"),\n",
    "    Dropout(0.5),\n",
    "    Dense(4, activation=\"softmax\")\n",
    "])\n",
    "\n",
    "model2.compile(optimizer=\"Adam\", loss=\"categorical_crossentropy\", metrics=[\"accuracy\"])\n"
   ]
  },
  {
   "cell_type": "code",
   "execution_count": 19,
   "id": "f7b5c0ce",
   "metadata": {},
   "outputs": [],
   "source": [
    "checkpoint = ModelCheckpoint(\"CNN_model2\", \n",
    "                             monitor='val_accuracy', \n",
    "                             save_best_only=True, \n",
    "                             mode='max', \n",
    "                             verbose=1)"
   ]
  },
  {
   "cell_type": "code",
   "execution_count": 20,
   "id": "60e4197a",
   "metadata": {
    "scrolled": true
   },
   "outputs": [
    {
     "name": "stdout",
     "output_type": "stream",
     "text": [
      "Epoch 1/50\n",
      "67/67 [==============================] - ETA: 0s - loss: 1.4556 - accuracy: 0.2647\n",
      "Epoch 1: val_accuracy improved from -inf to 0.34821, saving model to CNN_model2\n"
     ]
    },
    {
     "name": "stderr",
     "output_type": "stream",
     "text": [
      "WARNING:absl:Found untraced functions such as _jit_compiled_convolution_op, _jit_compiled_convolution_op, _jit_compiled_convolution_op while saving (showing 3 of 3). These functions will not be directly callable after loading.\n"
     ]
    },
    {
     "name": "stdout",
     "output_type": "stream",
     "text": [
      "INFO:tensorflow:Assets written to: CNN_model2\\assets\n"
     ]
    },
    {
     "name": "stderr",
     "output_type": "stream",
     "text": [
      "INFO:tensorflow:Assets written to: CNN_model2\\assets\n"
     ]
    },
    {
     "name": "stdout",
     "output_type": "stream",
     "text": [
      "67/67 [==============================] - 3s 32ms/step - loss: 1.4556 - accuracy: 0.2647 - val_loss: 1.3813 - val_accuracy: 0.3482\n",
      "Epoch 2/50\n",
      "66/67 [============================>.] - ETA: 0s - loss: 1.3139 - accuracy: 0.3769\n",
      "Epoch 2: val_accuracy improved from 0.34821 to 0.42679, saving model to CNN_model2\n"
     ]
    },
    {
     "name": "stderr",
     "output_type": "stream",
     "text": [
      "WARNING:absl:Found untraced functions such as _jit_compiled_convolution_op, _jit_compiled_convolution_op, _jit_compiled_convolution_op while saving (showing 3 of 3). These functions will not be directly callable after loading.\n"
     ]
    },
    {
     "name": "stdout",
     "output_type": "stream",
     "text": [
      "INFO:tensorflow:Assets written to: CNN_model2\\assets\n"
     ]
    },
    {
     "name": "stderr",
     "output_type": "stream",
     "text": [
      "INFO:tensorflow:Assets written to: CNN_model2\\assets\n"
     ]
    },
    {
     "name": "stdout",
     "output_type": "stream",
     "text": [
      "67/67 [==============================] - 2s 33ms/step - loss: 1.3128 - accuracy: 0.3772 - val_loss: 1.2882 - val_accuracy: 0.4268\n",
      "Epoch 3/50\n",
      "67/67 [==============================] - ETA: 0s - loss: 1.2360 - accuracy: 0.4447\n",
      "Epoch 3: val_accuracy improved from 0.42679 to 0.44286, saving model to CNN_model2\n"
     ]
    },
    {
     "name": "stderr",
     "output_type": "stream",
     "text": [
      "WARNING:absl:Found untraced functions such as _jit_compiled_convolution_op, _jit_compiled_convolution_op, _jit_compiled_convolution_op while saving (showing 3 of 3). These functions will not be directly callable after loading.\n"
     ]
    },
    {
     "name": "stdout",
     "output_type": "stream",
     "text": [
      "INFO:tensorflow:Assets written to: CNN_model2\\assets\n"
     ]
    },
    {
     "name": "stderr",
     "output_type": "stream",
     "text": [
      "INFO:tensorflow:Assets written to: CNN_model2\\assets\n"
     ]
    },
    {
     "name": "stdout",
     "output_type": "stream",
     "text": [
      "67/67 [==============================] - 2s 27ms/step - loss: 1.2360 - accuracy: 0.4447 - val_loss: 1.2642 - val_accuracy: 0.4429\n",
      "Epoch 4/50\n",
      "64/67 [===========================>..] - ETA: 0s - loss: 1.1962 - accuracy: 0.4505\n",
      "Epoch 4: val_accuracy improved from 0.44286 to 0.46786, saving model to CNN_model2\n"
     ]
    },
    {
     "name": "stderr",
     "output_type": "stream",
     "text": [
      "WARNING:absl:Found untraced functions such as _jit_compiled_convolution_op, _jit_compiled_convolution_op, _jit_compiled_convolution_op while saving (showing 3 of 3). These functions will not be directly callable after loading.\n"
     ]
    },
    {
     "name": "stdout",
     "output_type": "stream",
     "text": [
      "INFO:tensorflow:Assets written to: CNN_model2\\assets\n"
     ]
    },
    {
     "name": "stderr",
     "output_type": "stream",
     "text": [
      "INFO:tensorflow:Assets written to: CNN_model2\\assets\n"
     ]
    },
    {
     "name": "stdout",
     "output_type": "stream",
     "text": [
      "67/67 [==============================] - 2s 28ms/step - loss: 1.1961 - accuracy: 0.4519 - val_loss: 1.2362 - val_accuracy: 0.4679\n",
      "Epoch 5/50\n",
      "66/67 [============================>.] - ETA: 0s - loss: 1.1637 - accuracy: 0.4760\n",
      "Epoch 5: val_accuracy improved from 0.46786 to 0.50179, saving model to CNN_model2\n"
     ]
    },
    {
     "name": "stderr",
     "output_type": "stream",
     "text": [
      "WARNING:absl:Found untraced functions such as _jit_compiled_convolution_op, _jit_compiled_convolution_op, _jit_compiled_convolution_op while saving (showing 3 of 3). These functions will not be directly callable after loading.\n"
     ]
    },
    {
     "name": "stdout",
     "output_type": "stream",
     "text": [
      "INFO:tensorflow:Assets written to: CNN_model2\\assets\n"
     ]
    },
    {
     "name": "stderr",
     "output_type": "stream",
     "text": [
      "INFO:tensorflow:Assets written to: CNN_model2\\assets\n"
     ]
    },
    {
     "name": "stdout",
     "output_type": "stream",
     "text": [
      "67/67 [==============================] - 2s 28ms/step - loss: 1.1617 - accuracy: 0.4775 - val_loss: 1.1497 - val_accuracy: 0.5018\n",
      "Epoch 6/50\n",
      "67/67 [==============================] - ETA: 0s - loss: 1.1045 - accuracy: 0.5206\n",
      "Epoch 6: val_accuracy improved from 0.50179 to 0.52500, saving model to CNN_model2\n"
     ]
    },
    {
     "name": "stderr",
     "output_type": "stream",
     "text": [
      "WARNING:absl:Found untraced functions such as _jit_compiled_convolution_op, _jit_compiled_convolution_op, _jit_compiled_convolution_op while saving (showing 3 of 3). These functions will not be directly callable after loading.\n"
     ]
    },
    {
     "name": "stdout",
     "output_type": "stream",
     "text": [
      "INFO:tensorflow:Assets written to: CNN_model2\\assets\n"
     ]
    },
    {
     "name": "stderr",
     "output_type": "stream",
     "text": [
      "INFO:tensorflow:Assets written to: CNN_model2\\assets\n"
     ]
    },
    {
     "name": "stdout",
     "output_type": "stream",
     "text": [
      "67/67 [==============================] - 2s 33ms/step - loss: 1.1045 - accuracy: 0.5206 - val_loss: 1.1216 - val_accuracy: 0.5250\n",
      "Epoch 7/50\n",
      "66/67 [============================>.] - ETA: 0s - loss: 1.0188 - accuracy: 0.5732\n",
      "Epoch 7: val_accuracy improved from 0.52500 to 0.55000, saving model to CNN_model2\n"
     ]
    },
    {
     "name": "stderr",
     "output_type": "stream",
     "text": [
      "WARNING:absl:Found untraced functions such as _jit_compiled_convolution_op, _jit_compiled_convolution_op, _jit_compiled_convolution_op while saving (showing 3 of 3). These functions will not be directly callable after loading.\n"
     ]
    },
    {
     "name": "stdout",
     "output_type": "stream",
     "text": [
      "INFO:tensorflow:Assets written to: CNN_model2\\assets\n"
     ]
    },
    {
     "name": "stderr",
     "output_type": "stream",
     "text": [
      "INFO:tensorflow:Assets written to: CNN_model2\\assets\n"
     ]
    },
    {
     "name": "stdout",
     "output_type": "stream",
     "text": [
      "67/67 [==============================] - 2s 29ms/step - loss: 1.0190 - accuracy: 0.5725 - val_loss: 1.0627 - val_accuracy: 0.5500\n",
      "Epoch 8/50\n",
      "64/67 [===========================>..] - ETA: 0s - loss: 0.9919 - accuracy: 0.5843\n",
      "Epoch 8: val_accuracy improved from 0.55000 to 0.58214, saving model to CNN_model2\n"
     ]
    },
    {
     "name": "stderr",
     "output_type": "stream",
     "text": [
      "WARNING:absl:Found untraced functions such as _jit_compiled_convolution_op, _jit_compiled_convolution_op, _jit_compiled_convolution_op while saving (showing 3 of 3). These functions will not be directly callable after loading.\n"
     ]
    },
    {
     "name": "stdout",
     "output_type": "stream",
     "text": [
      "INFO:tensorflow:Assets written to: CNN_model2\\assets\n"
     ]
    },
    {
     "name": "stderr",
     "output_type": "stream",
     "text": [
      "INFO:tensorflow:Assets written to: CNN_model2\\assets\n"
     ]
    },
    {
     "name": "stdout",
     "output_type": "stream",
     "text": [
      "67/67 [==============================] - 2s 29ms/step - loss: 0.9902 - accuracy: 0.5859 - val_loss: 1.0121 - val_accuracy: 0.5821\n",
      "Epoch 9/50\n",
      "65/67 [============================>.] - ETA: 0s - loss: 0.9393 - accuracy: 0.6228\n",
      "Epoch 9: val_accuracy improved from 0.58214 to 0.59464, saving model to CNN_model2\n"
     ]
    },
    {
     "name": "stderr",
     "output_type": "stream",
     "text": [
      "WARNING:absl:Found untraced functions such as _jit_compiled_convolution_op, _jit_compiled_convolution_op, _jit_compiled_convolution_op while saving (showing 3 of 3). These functions will not be directly callable after loading.\n"
     ]
    },
    {
     "name": "stdout",
     "output_type": "stream",
     "text": [
      "INFO:tensorflow:Assets written to: CNN_model2\\assets\n"
     ]
    },
    {
     "name": "stderr",
     "output_type": "stream",
     "text": [
      "INFO:tensorflow:Assets written to: CNN_model2\\assets\n"
     ]
    },
    {
     "name": "stdout",
     "output_type": "stream",
     "text": [
      "67/67 [==============================] - 3s 41ms/step - loss: 0.9389 - accuracy: 0.6231 - val_loss: 1.0027 - val_accuracy: 0.5946\n",
      "Epoch 10/50\n",
      "66/67 [============================>.] - ETA: 0s - loss: 0.8991 - accuracy: 0.6215\n",
      "Epoch 10: val_accuracy improved from 0.59464 to 0.59643, saving model to CNN_model2\n"
     ]
    },
    {
     "name": "stderr",
     "output_type": "stream",
     "text": [
      "WARNING:absl:Found untraced functions such as _jit_compiled_convolution_op, _jit_compiled_convolution_op, _jit_compiled_convolution_op while saving (showing 3 of 3). These functions will not be directly callable after loading.\n"
     ]
    },
    {
     "name": "stdout",
     "output_type": "stream",
     "text": [
      "INFO:tensorflow:Assets written to: CNN_model2\\assets\n"
     ]
    },
    {
     "name": "stderr",
     "output_type": "stream",
     "text": [
      "INFO:tensorflow:Assets written to: CNN_model2\\assets\n"
     ]
    },
    {
     "name": "stdout",
     "output_type": "stream",
     "text": [
      "67/67 [==============================] - 2s 36ms/step - loss: 0.8980 - accuracy: 0.6219 - val_loss: 0.9617 - val_accuracy: 0.5964\n",
      "Epoch 11/50\n",
      "63/67 [===========================>..] - ETA: 0s - loss: 0.8578 - accuracy: 0.6558\n",
      "Epoch 11: val_accuracy improved from 0.59643 to 0.64107, saving model to CNN_model2\n"
     ]
    },
    {
     "name": "stderr",
     "output_type": "stream",
     "text": [
      "WARNING:absl:Found untraced functions such as _jit_compiled_convolution_op, _jit_compiled_convolution_op, _jit_compiled_convolution_op while saving (showing 3 of 3). These functions will not be directly callable after loading.\n"
     ]
    },
    {
     "name": "stdout",
     "output_type": "stream",
     "text": [
      "INFO:tensorflow:Assets written to: CNN_model2\\assets\n"
     ]
    },
    {
     "name": "stderr",
     "output_type": "stream",
     "text": [
      "INFO:tensorflow:Assets written to: CNN_model2\\assets\n"
     ]
    },
    {
     "name": "stdout",
     "output_type": "stream",
     "text": [
      "67/67 [==============================] - 2s 27ms/step - loss: 0.8592 - accuracy: 0.6556 - val_loss: 0.9054 - val_accuracy: 0.6411\n",
      "Epoch 12/50\n",
      "65/67 [============================>.] - ETA: 0s - loss: 0.8378 - accuracy: 0.6673\n",
      "Epoch 12: val_accuracy improved from 0.64107 to 0.64643, saving model to CNN_model2\n"
     ]
    },
    {
     "name": "stderr",
     "output_type": "stream",
     "text": [
      "WARNING:absl:Found untraced functions such as _jit_compiled_convolution_op, _jit_compiled_convolution_op, _jit_compiled_convolution_op while saving (showing 3 of 3). These functions will not be directly callable after loading.\n"
     ]
    },
    {
     "name": "stdout",
     "output_type": "stream",
     "text": [
      "INFO:tensorflow:Assets written to: CNN_model2\\assets\n"
     ]
    },
    {
     "name": "stderr",
     "output_type": "stream",
     "text": [
      "INFO:tensorflow:Assets written to: CNN_model2\\assets\n"
     ]
    },
    {
     "name": "stdout",
     "output_type": "stream",
     "text": [
      "67/67 [==============================] - 2s 28ms/step - loss: 0.8391 - accuracy: 0.6650 - val_loss: 0.9274 - val_accuracy: 0.6464\n",
      "Epoch 13/50\n",
      "65/67 [============================>.] - ETA: 0s - loss: 0.7932 - accuracy: 0.6856\n",
      "Epoch 13: val_accuracy improved from 0.64643 to 0.66607, saving model to CNN_model2\n"
     ]
    },
    {
     "name": "stderr",
     "output_type": "stream",
     "text": [
      "WARNING:absl:Found untraced functions such as _jit_compiled_convolution_op, _jit_compiled_convolution_op, _jit_compiled_convolution_op while saving (showing 3 of 3). These functions will not be directly callable after loading.\n"
     ]
    },
    {
     "name": "stdout",
     "output_type": "stream",
     "text": [
      "INFO:tensorflow:Assets written to: CNN_model2\\assets\n"
     ]
    },
    {
     "name": "stderr",
     "output_type": "stream",
     "text": [
      "INFO:tensorflow:Assets written to: CNN_model2\\assets\n"
     ]
    },
    {
     "name": "stdout",
     "output_type": "stream",
     "text": [
      "67/67 [==============================] - 2s 33ms/step - loss: 0.7958 - accuracy: 0.6837 - val_loss: 0.9488 - val_accuracy: 0.6661\n",
      "Epoch 14/50\n",
      "65/67 [============================>.] - ETA: 0s - loss: 0.7926 - accuracy: 0.6955\n",
      "Epoch 14: val_accuracy improved from 0.66607 to 0.66964, saving model to CNN_model2\n"
     ]
    },
    {
     "name": "stderr",
     "output_type": "stream",
     "text": [
      "WARNING:absl:Found untraced functions such as _jit_compiled_convolution_op, _jit_compiled_convolution_op, _jit_compiled_convolution_op while saving (showing 3 of 3). These functions will not be directly callable after loading.\n"
     ]
    },
    {
     "name": "stdout",
     "output_type": "stream",
     "text": [
      "INFO:tensorflow:Assets written to: CNN_model2\\assets\n"
     ]
    },
    {
     "name": "stderr",
     "output_type": "stream",
     "text": [
      "INFO:tensorflow:Assets written to: CNN_model2\\assets\n"
     ]
    },
    {
     "name": "stdout",
     "output_type": "stream",
     "text": [
      "67/67 [==============================] - 2s 28ms/step - loss: 0.7926 - accuracy: 0.6953 - val_loss: 0.8787 - val_accuracy: 0.6696\n",
      "Epoch 15/50\n",
      "67/67 [==============================] - ETA: 0s - loss: 0.7385 - accuracy: 0.7234\n",
      "Epoch 15: val_accuracy improved from 0.66964 to 0.67500, saving model to CNN_model2\n"
     ]
    },
    {
     "name": "stderr",
     "output_type": "stream",
     "text": [
      "WARNING:absl:Found untraced functions such as _jit_compiled_convolution_op, _jit_compiled_convolution_op, _jit_compiled_convolution_op while saving (showing 3 of 3). These functions will not be directly callable after loading.\n"
     ]
    },
    {
     "name": "stdout",
     "output_type": "stream",
     "text": [
      "INFO:tensorflow:Assets written to: CNN_model2\\assets\n"
     ]
    },
    {
     "name": "stderr",
     "output_type": "stream",
     "text": [
      "INFO:tensorflow:Assets written to: CNN_model2\\assets\n"
     ]
    },
    {
     "name": "stdout",
     "output_type": "stream",
     "text": [
      "67/67 [==============================] - 2s 28ms/step - loss: 0.7385 - accuracy: 0.7234 - val_loss: 0.8490 - val_accuracy: 0.6750\n",
      "Epoch 16/50\n",
      "62/67 [==========================>...] - ETA: 0s - loss: 0.7183 - accuracy: 0.7164\n",
      "Epoch 16: val_accuracy improved from 0.67500 to 0.70893, saving model to CNN_model2\n"
     ]
    },
    {
     "name": "stderr",
     "output_type": "stream",
     "text": [
      "WARNING:absl:Found untraced functions such as _jit_compiled_convolution_op, _jit_compiled_convolution_op, _jit_compiled_convolution_op while saving (showing 3 of 3). These functions will not be directly callable after loading.\n"
     ]
    },
    {
     "name": "stdout",
     "output_type": "stream",
     "text": [
      "INFO:tensorflow:Assets written to: CNN_model2\\assets\n"
     ]
    },
    {
     "name": "stderr",
     "output_type": "stream",
     "text": [
      "INFO:tensorflow:Assets written to: CNN_model2\\assets\n"
     ]
    },
    {
     "name": "stdout",
     "output_type": "stream",
     "text": [
      "67/67 [==============================] - 2s 33ms/step - loss: 0.7233 - accuracy: 0.7113 - val_loss: 0.8266 - val_accuracy: 0.7089\n",
      "Epoch 17/50\n",
      "63/67 [===========================>..] - ETA: 0s - loss: 0.6939 - accuracy: 0.7351\n",
      "Epoch 17: val_accuracy did not improve from 0.70893\n",
      "67/67 [==============================] - 1s 12ms/step - loss: 0.6935 - accuracy: 0.7341 - val_loss: 0.8512 - val_accuracy: 0.6857\n",
      "Epoch 18/50\n",
      "65/67 [============================>.] - ETA: 0s - loss: 0.6570 - accuracy: 0.7433\n",
      "Epoch 18: val_accuracy improved from 0.70893 to 0.71429, saving model to CNN_model2\n"
     ]
    },
    {
     "name": "stderr",
     "output_type": "stream",
     "text": [
      "WARNING:absl:Found untraced functions such as _jit_compiled_convolution_op, _jit_compiled_convolution_op, _jit_compiled_convolution_op while saving (showing 3 of 3). These functions will not be directly callable after loading.\n"
     ]
    },
    {
     "name": "stdout",
     "output_type": "stream",
     "text": [
      "INFO:tensorflow:Assets written to: CNN_model2\\assets\n"
     ]
    },
    {
     "name": "stderr",
     "output_type": "stream",
     "text": [
      "INFO:tensorflow:Assets written to: CNN_model2\\assets\n"
     ]
    },
    {
     "name": "stdout",
     "output_type": "stream",
     "text": [
      "67/67 [==============================] - 2s 27ms/step - loss: 0.6565 - accuracy: 0.7431 - val_loss: 0.7939 - val_accuracy: 0.7143\n",
      "Epoch 19/50\n",
      "66/67 [============================>.] - ETA: 0s - loss: 0.6227 - accuracy: 0.7573\n",
      "Epoch 19: val_accuracy improved from 0.71429 to 0.72143, saving model to CNN_model2\n"
     ]
    },
    {
     "name": "stderr",
     "output_type": "stream",
     "text": [
      "WARNING:absl:Found untraced functions such as _jit_compiled_convolution_op, _jit_compiled_convolution_op, _jit_compiled_convolution_op while saving (showing 3 of 3). These functions will not be directly callable after loading.\n"
     ]
    },
    {
     "name": "stdout",
     "output_type": "stream",
     "text": [
      "INFO:tensorflow:Assets written to: CNN_model2\\assets\n"
     ]
    },
    {
     "name": "stderr",
     "output_type": "stream",
     "text": [
      "INFO:tensorflow:Assets written to: CNN_model2\\assets\n"
     ]
    },
    {
     "name": "stdout",
     "output_type": "stream",
     "text": [
      "67/67 [==============================] - 2s 27ms/step - loss: 0.6232 - accuracy: 0.7575 - val_loss: 0.7792 - val_accuracy: 0.7214\n",
      "Epoch 20/50\n",
      "62/67 [==========================>...] - ETA: 0s - loss: 0.6067 - accuracy: 0.7678\n",
      "Epoch 20: val_accuracy improved from 0.72143 to 0.72321, saving model to CNN_model2\n"
     ]
    },
    {
     "name": "stderr",
     "output_type": "stream",
     "text": [
      "WARNING:absl:Found untraced functions such as _jit_compiled_convolution_op, _jit_compiled_convolution_op, _jit_compiled_convolution_op while saving (showing 3 of 3). These functions will not be directly callable after loading.\n"
     ]
    },
    {
     "name": "stdout",
     "output_type": "stream",
     "text": [
      "INFO:tensorflow:Assets written to: CNN_model2\\assets\n"
     ]
    },
    {
     "name": "stderr",
     "output_type": "stream",
     "text": [
      "INFO:tensorflow:Assets written to: CNN_model2\\assets\n"
     ]
    },
    {
     "name": "stdout",
     "output_type": "stream",
     "text": [
      "67/67 [==============================] - 2s 28ms/step - loss: 0.6151 - accuracy: 0.7694 - val_loss: 0.7719 - val_accuracy: 0.7232\n",
      "Epoch 21/50\n",
      "63/67 [===========================>..] - ETA: 0s - loss: 0.5989 - accuracy: 0.7698\n",
      "Epoch 21: val_accuracy did not improve from 0.72321\n",
      "67/67 [==============================] - 1s 12ms/step - loss: 0.6011 - accuracy: 0.7666 - val_loss: 0.8102 - val_accuracy: 0.6982\n",
      "Epoch 22/50\n",
      "67/67 [==============================] - ETA: 0s - loss: 0.5787 - accuracy: 0.7819\n",
      "Epoch 22: val_accuracy improved from 0.72321 to 0.74286, saving model to CNN_model2\n"
     ]
    },
    {
     "name": "stderr",
     "output_type": "stream",
     "text": [
      "WARNING:absl:Found untraced functions such as _jit_compiled_convolution_op, _jit_compiled_convolution_op, _jit_compiled_convolution_op while saving (showing 3 of 3). These functions will not be directly callable after loading.\n"
     ]
    },
    {
     "name": "stdout",
     "output_type": "stream",
     "text": [
      "INFO:tensorflow:Assets written to: CNN_model2\\assets\n"
     ]
    },
    {
     "name": "stderr",
     "output_type": "stream",
     "text": [
      "INFO:tensorflow:Assets written to: CNN_model2\\assets\n"
     ]
    },
    {
     "name": "stdout",
     "output_type": "stream",
     "text": [
      "67/67 [==============================] - 2s 33ms/step - loss: 0.5787 - accuracy: 0.7819 - val_loss: 0.7743 - val_accuracy: 0.7429\n",
      "Epoch 23/50\n",
      "67/67 [==============================] - ETA: 0s - loss: 0.5468 - accuracy: 0.7937\n",
      "Epoch 23: val_accuracy did not improve from 0.74286\n",
      "67/67 [==============================] - 1s 11ms/step - loss: 0.5468 - accuracy: 0.7937 - val_loss: 0.7815 - val_accuracy: 0.7179\n",
      "Epoch 24/50\n",
      "66/67 [============================>.] - ETA: 0s - loss: 0.5284 - accuracy: 0.7970\n",
      "Epoch 24: val_accuracy did not improve from 0.74286\n",
      "67/67 [==============================] - 1s 12ms/step - loss: 0.5268 - accuracy: 0.7978 - val_loss: 0.7256 - val_accuracy: 0.7286\n",
      "Epoch 25/50\n",
      "65/67 [============================>.] - ETA: 0s - loss: 0.5177 - accuracy: 0.8054\n",
      "Epoch 25: val_accuracy did not improve from 0.74286\n",
      "67/67 [==============================] - 1s 12ms/step - loss: 0.5135 - accuracy: 0.8075 - val_loss: 0.7464 - val_accuracy: 0.7375\n",
      "Epoch 26/50\n",
      "66/67 [============================>.] - ETA: 0s - loss: 0.5067 - accuracy: 0.8011\n",
      "Epoch 26: val_accuracy did not improve from 0.74286\n",
      "67/67 [==============================] - 1s 12ms/step - loss: 0.5074 - accuracy: 0.8009 - val_loss: 0.8173 - val_accuracy: 0.7054\n",
      "Epoch 27/50\n",
      "67/67 [==============================] - ETA: 0s - loss: 0.4761 - accuracy: 0.8163\n",
      "Epoch 27: val_accuracy did not improve from 0.74286\n",
      "67/67 [==============================] - 1s 12ms/step - loss: 0.4761 - accuracy: 0.8163 - val_loss: 0.7593 - val_accuracy: 0.7339\n",
      "Epoch 28/50\n",
      "62/67 [==========================>...] - ETA: 0s - loss: 0.4578 - accuracy: 0.8337\n",
      "Epoch 28: val_accuracy improved from 0.74286 to 0.75357, saving model to CNN_model2\n"
     ]
    },
    {
     "name": "stderr",
     "output_type": "stream",
     "text": [
      "WARNING:absl:Found untraced functions such as _jit_compiled_convolution_op, _jit_compiled_convolution_op, _jit_compiled_convolution_op while saving (showing 3 of 3). These functions will not be directly callable after loading.\n"
     ]
    },
    {
     "name": "stdout",
     "output_type": "stream",
     "text": [
      "INFO:tensorflow:Assets written to: CNN_model2\\assets\n"
     ]
    },
    {
     "name": "stderr",
     "output_type": "stream",
     "text": [
      "INFO:tensorflow:Assets written to: CNN_model2\\assets\n"
     ]
    },
    {
     "name": "stdout",
     "output_type": "stream",
     "text": [
      "67/67 [==============================] - 2s 27ms/step - loss: 0.4601 - accuracy: 0.8341 - val_loss: 0.6939 - val_accuracy: 0.7536\n",
      "Epoch 29/50\n",
      "62/67 [==========================>...] - ETA: 0s - loss: 0.4395 - accuracy: 0.8357\n",
      "Epoch 29: val_accuracy did not improve from 0.75357\n",
      "67/67 [==============================] - 1s 12ms/step - loss: 0.4347 - accuracy: 0.8378 - val_loss: 0.6913 - val_accuracy: 0.7518\n",
      "Epoch 30/50\n",
      "63/67 [===========================>..] - ETA: 0s - loss: 0.4284 - accuracy: 0.8366\n",
      "Epoch 30: val_accuracy did not improve from 0.75357\n",
      "67/67 [==============================] - 1s 12ms/step - loss: 0.4323 - accuracy: 0.8359 - val_loss: 0.7658 - val_accuracy: 0.7357\n",
      "Epoch 31/50\n",
      "65/67 [============================>.] - ETA: 0s - loss: 0.4103 - accuracy: 0.8426\n",
      "Epoch 31: val_accuracy did not improve from 0.75357\n",
      "67/67 [==============================] - 1s 12ms/step - loss: 0.4104 - accuracy: 0.8438 - val_loss: 0.8721 - val_accuracy: 0.6821\n",
      "Epoch 32/50\n",
      "64/67 [===========================>..] - ETA: 0s - loss: 0.4195 - accuracy: 0.8421\n",
      "Epoch 32: val_accuracy did not improve from 0.75357\n",
      "67/67 [==============================] - 1s 12ms/step - loss: 0.4205 - accuracy: 0.8419 - val_loss: 0.6908 - val_accuracy: 0.7446\n",
      "Epoch 33/50\n",
      "66/67 [============================>.] - ETA: 0s - loss: 0.3985 - accuracy: 0.8539\n",
      "Epoch 33: val_accuracy improved from 0.75357 to 0.77321, saving model to CNN_model2\n"
     ]
    },
    {
     "name": "stderr",
     "output_type": "stream",
     "text": [
      "WARNING:absl:Found untraced functions such as _jit_compiled_convolution_op, _jit_compiled_convolution_op, _jit_compiled_convolution_op while saving (showing 3 of 3). These functions will not be directly callable after loading.\n"
     ]
    },
    {
     "name": "stdout",
     "output_type": "stream",
     "text": [
      "INFO:tensorflow:Assets written to: CNN_model2\\assets\n"
     ]
    },
    {
     "name": "stderr",
     "output_type": "stream",
     "text": [
      "INFO:tensorflow:Assets written to: CNN_model2\\assets\n"
     ]
    },
    {
     "name": "stdout",
     "output_type": "stream",
     "text": [
      "67/67 [==============================] - 2s 27ms/step - loss: 0.3956 - accuracy: 0.8550 - val_loss: 0.6586 - val_accuracy: 0.7732\n",
      "Epoch 34/50\n",
      "63/67 [===========================>..] - ETA: 0s - loss: 0.3830 - accuracy: 0.8608\n",
      "Epoch 34: val_accuracy did not improve from 0.77321\n",
      "67/67 [==============================] - 1s 12ms/step - loss: 0.3853 - accuracy: 0.8587 - val_loss: 0.7093 - val_accuracy: 0.7643\n",
      "Epoch 35/50\n",
      "64/67 [===========================>..] - ETA: 0s - loss: 0.3645 - accuracy: 0.8672\n",
      "Epoch 35: val_accuracy did not improve from 0.77321\n",
      "67/67 [==============================] - 1s 13ms/step - loss: 0.3640 - accuracy: 0.8678 - val_loss: 0.6779 - val_accuracy: 0.7661\n",
      "Epoch 36/50\n",
      "65/67 [============================>.] - ETA: 0s - loss: 0.3330 - accuracy: 0.8788\n",
      "Epoch 36: val_accuracy did not improve from 0.77321\n",
      "67/67 [==============================] - 1s 12ms/step - loss: 0.3339 - accuracy: 0.8788 - val_loss: 0.7355 - val_accuracy: 0.7482\n",
      "Epoch 37/50\n",
      "65/67 [============================>.] - ETA: 0s - loss: 0.3452 - accuracy: 0.8760\n",
      "Epoch 37: val_accuracy did not improve from 0.77321\n",
      "67/67 [==============================] - 1s 12ms/step - loss: 0.3507 - accuracy: 0.8744 - val_loss: 0.6834 - val_accuracy: 0.7714\n",
      "Epoch 38/50\n",
      "64/67 [===========================>..] - ETA: 0s - loss: 0.3558 - accuracy: 0.8665\n",
      "Epoch 38: val_accuracy did not improve from 0.77321\n",
      "67/67 [==============================] - 1s 12ms/step - loss: 0.3574 - accuracy: 0.8650 - val_loss: 0.8536 - val_accuracy: 0.6982\n",
      "Epoch 39/50\n",
      "63/67 [===========================>..] - ETA: 0s - loss: 0.3554 - accuracy: 0.8704\n",
      "Epoch 39: val_accuracy did not improve from 0.77321\n",
      "67/67 [==============================] - 1s 12ms/step - loss: 0.3505 - accuracy: 0.8731 - val_loss: 0.7326 - val_accuracy: 0.7607\n",
      "Epoch 40/50\n",
      "63/67 [===========================>..] - ETA: 0s - loss: 0.3237 - accuracy: 0.8819\n",
      "Epoch 40: val_accuracy improved from 0.77321 to 0.77500, saving model to CNN_model2\n"
     ]
    },
    {
     "name": "stderr",
     "output_type": "stream",
     "text": [
      "WARNING:absl:Found untraced functions such as _jit_compiled_convolution_op, _jit_compiled_convolution_op, _jit_compiled_convolution_op while saving (showing 3 of 3). These functions will not be directly callable after loading.\n"
     ]
    },
    {
     "name": "stdout",
     "output_type": "stream",
     "text": [
      "INFO:tensorflow:Assets written to: CNN_model2\\assets\n"
     ]
    },
    {
     "name": "stderr",
     "output_type": "stream",
     "text": [
      "INFO:tensorflow:Assets written to: CNN_model2\\assets\n"
     ]
    },
    {
     "name": "stdout",
     "output_type": "stream",
     "text": [
      "67/67 [==============================] - 2s 28ms/step - loss: 0.3319 - accuracy: 0.8800 - val_loss: 0.6921 - val_accuracy: 0.7750\n",
      "Epoch 41/50\n",
      "62/67 [==========================>...] - ETA: 0s - loss: 0.2981 - accuracy: 0.8864\n",
      "Epoch 41: val_accuracy did not improve from 0.77500\n",
      "67/67 [==============================] - 1s 12ms/step - loss: 0.2960 - accuracy: 0.8866 - val_loss: 0.7552 - val_accuracy: 0.7625\n",
      "Epoch 42/50\n",
      "62/67 [==========================>...] - ETA: 0s - loss: 0.2989 - accuracy: 0.8804\n",
      "Epoch 42: val_accuracy did not improve from 0.77500\n",
      "67/67 [==============================] - 1s 12ms/step - loss: 0.2982 - accuracy: 0.8816 - val_loss: 0.7005 - val_accuracy: 0.7696\n",
      "Epoch 43/50\n",
      "66/67 [============================>.] - ETA: 0s - loss: 0.3031 - accuracy: 0.8939\n",
      "Epoch 43: val_accuracy did not improve from 0.77500\n",
      "67/67 [==============================] - 1s 12ms/step - loss: 0.3038 - accuracy: 0.8931 - val_loss: 0.8375 - val_accuracy: 0.7161\n",
      "Epoch 44/50\n",
      "63/67 [===========================>..] - ETA: 0s - loss: 0.2945 - accuracy: 0.8995\n",
      "Epoch 44: val_accuracy did not improve from 0.77500\n",
      "67/67 [==============================] - 1s 12ms/step - loss: 0.2913 - accuracy: 0.9000 - val_loss: 0.7859 - val_accuracy: 0.7518\n",
      "Epoch 45/50\n",
      "65/67 [============================>.] - ETA: 0s - loss: 0.2737 - accuracy: 0.8987\n",
      "Epoch 45: val_accuracy improved from 0.77500 to 0.77857, saving model to CNN_model2\n"
     ]
    },
    {
     "name": "stderr",
     "output_type": "stream",
     "text": [
      "WARNING:absl:Found untraced functions such as _jit_compiled_convolution_op, _jit_compiled_convolution_op, _jit_compiled_convolution_op while saving (showing 3 of 3). These functions will not be directly callable after loading.\n"
     ]
    },
    {
     "name": "stdout",
     "output_type": "stream",
     "text": [
      "INFO:tensorflow:Assets written to: CNN_model2\\assets\n"
     ]
    },
    {
     "name": "stderr",
     "output_type": "stream",
     "text": [
      "INFO:tensorflow:Assets written to: CNN_model2\\assets\n"
     ]
    },
    {
     "name": "stdout",
     "output_type": "stream",
     "text": [
      "67/67 [==============================] - 2s 32ms/step - loss: 0.2751 - accuracy: 0.8991 - val_loss: 0.7880 - val_accuracy: 0.7786\n",
      "Epoch 46/50\n",
      "65/67 [============================>.] - ETA: 0s - loss: 0.2850 - accuracy: 0.8946\n",
      "Epoch 46: val_accuracy did not improve from 0.77857\n",
      "67/67 [==============================] - 1s 12ms/step - loss: 0.2861 - accuracy: 0.8941 - val_loss: 0.7910 - val_accuracy: 0.7268\n",
      "Epoch 47/50\n",
      "67/67 [==============================] - ETA: 0s - loss: 0.2795 - accuracy: 0.9022\n",
      "Epoch 47: val_accuracy did not improve from 0.77857\n",
      "67/67 [==============================] - 1s 14ms/step - loss: 0.2795 - accuracy: 0.9022 - val_loss: 0.7777 - val_accuracy: 0.7768\n",
      "Epoch 48/50\n",
      "66/67 [============================>.] - ETA: 0s - loss: 0.2585 - accuracy: 0.9069\n",
      "Epoch 48: val_accuracy improved from 0.77857 to 0.78393, saving model to CNN_model2\n"
     ]
    },
    {
     "name": "stderr",
     "output_type": "stream",
     "text": [
      "WARNING:absl:Found untraced functions such as _jit_compiled_convolution_op, _jit_compiled_convolution_op, _jit_compiled_convolution_op while saving (showing 3 of 3). These functions will not be directly callable after loading.\n"
     ]
    },
    {
     "name": "stdout",
     "output_type": "stream",
     "text": [
      "INFO:tensorflow:Assets written to: CNN_model2\\assets\n"
     ]
    },
    {
     "name": "stderr",
     "output_type": "stream",
     "text": [
      "INFO:tensorflow:Assets written to: CNN_model2\\assets\n"
     ]
    },
    {
     "name": "stdout",
     "output_type": "stream",
     "text": [
      "67/67 [==============================] - 2s 34ms/step - loss: 0.2577 - accuracy: 0.9069 - val_loss: 0.7027 - val_accuracy: 0.7839\n",
      "Epoch 49/50\n",
      "64/67 [===========================>..] - ETA: 0s - loss: 0.2726 - accuracy: 0.9014\n",
      "Epoch 49: val_accuracy improved from 0.78393 to 0.80357, saving model to CNN_model2\n"
     ]
    },
    {
     "name": "stderr",
     "output_type": "stream",
     "text": [
      "WARNING:absl:Found untraced functions such as _jit_compiled_convolution_op, _jit_compiled_convolution_op, _jit_compiled_convolution_op while saving (showing 3 of 3). These functions will not be directly callable after loading.\n"
     ]
    },
    {
     "name": "stdout",
     "output_type": "stream",
     "text": [
      "INFO:tensorflow:Assets written to: CNN_model2\\assets\n"
     ]
    },
    {
     "name": "stderr",
     "output_type": "stream",
     "text": [
      "INFO:tensorflow:Assets written to: CNN_model2\\assets\n"
     ]
    },
    {
     "name": "stdout",
     "output_type": "stream",
     "text": [
      "67/67 [==============================] - 2s 31ms/step - loss: 0.2732 - accuracy: 0.9013 - val_loss: 0.6956 - val_accuracy: 0.8036\n",
      "Epoch 50/50\n",
      "62/67 [==========================>...] - ETA: 0s - loss: 0.2627 - accuracy: 0.9079\n",
      "Epoch 50: val_accuracy did not improve from 0.80357\n",
      "67/67 [==============================] - 1s 12ms/step - loss: 0.2641 - accuracy: 0.9072 - val_loss: 0.7834 - val_accuracy: 0.7571\n"
     ]
    }
   ],
   "source": [
    "history2 = model2.fit(trainX, trainY, batch_size=48, epochs=50, validation_data=(valX, valY), callbacks=[checkpoint])"
   ]
  },
  {
   "cell_type": "code",
   "execution_count": 21,
   "id": "32ccb459",
   "metadata": {},
   "outputs": [
    {
     "data": {
      "image/png": "[encoded data removed]",
      "text/plain": [
       "<Figure size 800x400 with 1 Axes>"
      ]
     },
     "metadata": {},
     "output_type": "display_data"
    }
   ],
   "source": [
    "best = np.round(max(history2.history['val_accuracy']), 2)\n",
    "epoch = np.argmax(history2.history['val_accuracy'])\n",
    "plt.figure(figsize=(8,4))\n",
    "plt.plot(history2.history['accuracy'], label='Training Accuracy')\n",
    "plt.plot(history2.history['val_accuracy'], label='Validation Accuracy')\n",
    "plt.axvline(x=epoch, color='r', linestyle='--', label=f'Best Validation = {best}')\n",
    "plt.title('Epoch vs. Accuracy (Model2)')\n",
    "plt.xlabel('Epoch')\n",
    "plt.ylabel('Accuracy')\n",
    "plt.legend()\n",
    "plt.savefig('CNN_model2\\\\CNN2_Epochs.png', dpi=300)\n",
    "plt.show()"
   ]
  },
  {
   "cell_type": "code",
   "execution_count": 22,
   "id": "6fe56764",
   "metadata": {},
   "outputs": [],
   "source": [
    "model2 = tf.keras.models.load_model('CNN_model2')"
   ]
  },
  {
   "cell_type": "code",
   "execution_count": 23,
   "id": "e4f770a9",
   "metadata": {},
   "outputs": [
    {
     "name": "stdout",
     "output_type": "stream",
     "text": [
      "8/8 [==============================] - 0s 11ms/step - loss: 0.6723 - accuracy: 0.7875\n"
     ]
    },
    {
     "data": {
      "text/plain": [
       "[0.6723271012306213, 0.7875000238418579]"
      ]
     },
     "execution_count": 23,
     "metadata": {},
     "output_type": "execute_result"
    }
   ],
   "source": [
    "model2.evaluate(testX, testY)"
   ]
  },
  {
   "cell_type": "code",
   "execution_count": 24,
   "id": "3cd3f1a4",
   "metadata": {
    "scrolled": false
   },
   "outputs": [
    {
     "name": "stdout",
     "output_type": "stream",
     "text": [
      "8/8 [==============================] - 0s 5ms/step\n"
     ]
    },
    {
     "data": {
      "image/png": "[encoded data removed]",
      "text/plain": [
       "<Figure size 600x600 with 1 Axes>"
      ]
     },
     "metadata": {},
     "output_type": "display_data"
    }
   ],
   "source": [
    "predY=model2.predict(testX)\n",
    "predY_classes=np.argmax(predY,axis=1)\n",
    "trueY=np.argmax(testY,axis=1)\n",
    "\n",
    "conf_mat=confusion_matrix(trueY, predY_classes)\n",
    "\n",
    "f,ax=plt.subplots(figsize=(6,6))\n",
    "sns.heatmap(conf_mat, annot=True, cbar=False, cmap='Purples')\n",
    "plt.title('Confusion Matrix (CNN2)')\n",
    "plt.xlabel('Predicted Class')\n",
    "plt.ylabel('True Class')\n",
    "ax.set_xticklabels(categories.values())\n",
    "ax.set_yticklabels(categories.values())\n",
    "plt.savefig('CNN_model1\\\\CNN1_Confusion.png', dpi=300)\n",
    "plt.show()"
   ]
  }
 ],
 "metadata": {
  "kernelspec": {
   "display_name": "Python 3 (ipykernel)",
   "language": "python",
   "name": "python3"
  },
  "language_info": {
   "codemirror_mode": {
    "name": "ipython",
    "version": 3
   },
   "file_extension": ".py",
   "mimetype": "text/x-python",
   "name": "python",
   "nbconvert_exporter": "python",
   "pygments_lexer": "ipython3",
   "version": "3.9.7"
  }
 },
 "nbformat": 4,
 "nbformat_minor": 5
}
